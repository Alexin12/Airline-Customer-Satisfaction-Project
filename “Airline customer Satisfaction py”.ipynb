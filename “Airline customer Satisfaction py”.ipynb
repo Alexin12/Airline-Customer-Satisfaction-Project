{
  "nbformat": 4,
  "nbformat_minor": 0,
  "metadata": {
    "colab": {
      "provenance": [],
      "collapsed_sections": []
    },
    "kernelspec": {
      "name": "python3",
      "display_name": "Python 3"
    },
    "language_info": {
      "name": "python"
    }
  },
  "cells": [
    {
      "cell_type": "code",
      "execution_count": 1,
      "metadata": {
        "id": "82OeF24Q45yL"
      },
      "outputs": [],
      "source": [
        "import pandas as pd\n",
        "import numpy as np·\n",
        "from matplotlib import pyplot as plt\n",
        "from sklearn.preprocessing import StandardScaler"
      ]
    },
    {
      "cell_type": "code",
      "source": [
        "from google.colab import files\n",
        "uploaded = files.upload()\n",
        "#choose train.csv\n"
      ],
      "metadata": {
        "id": "gehNi2AY5m-I",
        "colab": {
          "base_uri": "https://localhost:8080/",
          "height": 74
        },
        "outputId": "bd7f265a-6ea0-4e46-8b83-cfe9764f3cb2"
      },
      "execution_count": 2,
      "outputs": [
        {
          "output_type": "display_data",
          "data": {
            "text/plain": [
              "<IPython.core.display.HTML object>"
            ],
            "text/html": [
              "\n",
              "     <input type=\"file\" id=\"files-3d9357fe-f487-4ed9-8760-f9675b5d97e5\" name=\"files[]\" multiple disabled\n",
              "        style=\"border:none\" />\n",
              "     <output id=\"result-3d9357fe-f487-4ed9-8760-f9675b5d97e5\">\n",
              "      Upload widget is only available when the cell has been executed in the\n",
              "      current browser session. Please rerun this cell to enable.\n",
              "      </output>\n",
              "      <script>// Copyright 2017 Google LLC\n",
              "//\n",
              "// Licensed under the Apache License, Version 2.0 (the \"License\");\n",
              "// you may not use this file except in compliance with the License.\n",
              "// You may obtain a copy of the License at\n",
              "//\n",
              "//      http://www.apache.org/licenses/LICENSE-2.0\n",
              "//\n",
              "// Unless required by applicable law or agreed to in writing, software\n",
              "// distributed under the License is distributed on an \"AS IS\" BASIS,\n",
              "// WITHOUT WARRANTIES OR CONDITIONS OF ANY KIND, either express or implied.\n",
              "// See the License for the specific language governing permissions and\n",
              "// limitations under the License.\n",
              "\n",
              "/**\n",
              " * @fileoverview Helpers for google.colab Python module.\n",
              " */\n",
              "(function(scope) {\n",
              "function span(text, styleAttributes = {}) {\n",
              "  const element = document.createElement('span');\n",
              "  element.textContent = text;\n",
              "  for (const key of Object.keys(styleAttributes)) {\n",
              "    element.style[key] = styleAttributes[key];\n",
              "  }\n",
              "  return element;\n",
              "}\n",
              "\n",
              "// Max number of bytes which will be uploaded at a time.\n",
              "const MAX_PAYLOAD_SIZE = 100 * 1024;\n",
              "\n",
              "function _uploadFiles(inputId, outputId) {\n",
              "  const steps = uploadFilesStep(inputId, outputId);\n",
              "  const outputElement = document.getElementById(outputId);\n",
              "  // Cache steps on the outputElement to make it available for the next call\n",
              "  // to uploadFilesContinue from Python.\n",
              "  outputElement.steps = steps;\n",
              "\n",
              "  return _uploadFilesContinue(outputId);\n",
              "}\n",
              "\n",
              "// This is roughly an async generator (not supported in the browser yet),\n",
              "// where there are multiple asynchronous steps and the Python side is going\n",
              "// to poll for completion of each step.\n",
              "// This uses a Promise to block the python side on completion of each step,\n",
              "// then passes the result of the previous step as the input to the next step.\n",
              "function _uploadFilesContinue(outputId) {\n",
              "  const outputElement = document.getElementById(outputId);\n",
              "  const steps = outputElement.steps;\n",
              "\n",
              "  const next = steps.next(outputElement.lastPromiseValue);\n",
              "  return Promise.resolve(next.value.promise).then((value) => {\n",
              "    // Cache the last promise value to make it available to the next\n",
              "    // step of the generator.\n",
              "    outputElement.lastPromiseValue = value;\n",
              "    return next.value.response;\n",
              "  });\n",
              "}\n",
              "\n",
              "/**\n",
              " * Generator function which is called between each async step of the upload\n",
              " * process.\n",
              " * @param {string} inputId Element ID of the input file picker element.\n",
              " * @param {string} outputId Element ID of the output display.\n",
              " * @return {!Iterable<!Object>} Iterable of next steps.\n",
              " */\n",
              "function* uploadFilesStep(inputId, outputId) {\n",
              "  const inputElement = document.getElementById(inputId);\n",
              "  inputElement.disabled = false;\n",
              "\n",
              "  const outputElement = document.getElementById(outputId);\n",
              "  outputElement.innerHTML = '';\n",
              "\n",
              "  const pickedPromise = new Promise((resolve) => {\n",
              "    inputElement.addEventListener('change', (e) => {\n",
              "      resolve(e.target.files);\n",
              "    });\n",
              "  });\n",
              "\n",
              "  const cancel = document.createElement('button');\n",
              "  inputElement.parentElement.appendChild(cancel);\n",
              "  cancel.textContent = 'Cancel upload';\n",
              "  const cancelPromise = new Promise((resolve) => {\n",
              "    cancel.onclick = () => {\n",
              "      resolve(null);\n",
              "    };\n",
              "  });\n",
              "\n",
              "  // Wait for the user to pick the files.\n",
              "  const files = yield {\n",
              "    promise: Promise.race([pickedPromise, cancelPromise]),\n",
              "    response: {\n",
              "      action: 'starting',\n",
              "    }\n",
              "  };\n",
              "\n",
              "  cancel.remove();\n",
              "\n",
              "  // Disable the input element since further picks are not allowed.\n",
              "  inputElement.disabled = true;\n",
              "\n",
              "  if (!files) {\n",
              "    return {\n",
              "      response: {\n",
              "        action: 'complete',\n",
              "      }\n",
              "    };\n",
              "  }\n",
              "\n",
              "  for (const file of files) {\n",
              "    const li = document.createElement('li');\n",
              "    li.append(span(file.name, {fontWeight: 'bold'}));\n",
              "    li.append(span(\n",
              "        `(${file.type || 'n/a'}) - ${file.size} bytes, ` +\n",
              "        `last modified: ${\n",
              "            file.lastModifiedDate ? file.lastModifiedDate.toLocaleDateString() :\n",
              "                                    'n/a'} - `));\n",
              "    const percent = span('0% done');\n",
              "    li.appendChild(percent);\n",
              "\n",
              "    outputElement.appendChild(li);\n",
              "\n",
              "    const fileDataPromise = new Promise((resolve) => {\n",
              "      const reader = new FileReader();\n",
              "      reader.onload = (e) => {\n",
              "        resolve(e.target.result);\n",
              "      };\n",
              "      reader.readAsArrayBuffer(file);\n",
              "    });\n",
              "    // Wait for the data to be ready.\n",
              "    let fileData = yield {\n",
              "      promise: fileDataPromise,\n",
              "      response: {\n",
              "        action: 'continue',\n",
              "      }\n",
              "    };\n",
              "\n",
              "    // Use a chunked sending to avoid message size limits. See b/62115660.\n",
              "    let position = 0;\n",
              "    do {\n",
              "      const length = Math.min(fileData.byteLength - position, MAX_PAYLOAD_SIZE);\n",
              "      const chunk = new Uint8Array(fileData, position, length);\n",
              "      position += length;\n",
              "\n",
              "      const base64 = btoa(String.fromCharCode.apply(null, chunk));\n",
              "      yield {\n",
              "        response: {\n",
              "          action: 'append',\n",
              "          file: file.name,\n",
              "          data: base64,\n",
              "        },\n",
              "      };\n",
              "\n",
              "      let percentDone = fileData.byteLength === 0 ?\n",
              "          100 :\n",
              "          Math.round((position / fileData.byteLength) * 100);\n",
              "      percent.textContent = `${percentDone}% done`;\n",
              "\n",
              "    } while (position < fileData.byteLength);\n",
              "  }\n",
              "\n",
              "  // All done.\n",
              "  yield {\n",
              "    response: {\n",
              "      action: 'complete',\n",
              "    }\n",
              "  };\n",
              "}\n",
              "\n",
              "scope.google = scope.google || {};\n",
              "scope.google.colab = scope.google.colab || {};\n",
              "scope.google.colab._files = {\n",
              "  _uploadFiles,\n",
              "  _uploadFilesContinue,\n",
              "};\n",
              "})(self);\n",
              "</script> "
            ]
          },
          "metadata": {}
        },
        {
          "output_type": "stream",
          "name": "stdout",
          "text": [
            "Saving train.csv to train.csv\n"
          ]
        }
      ]
    },
    {
      "cell_type": "code",
      "source": [
        "import io\n",
        "data= pd.read_csv(io.BytesIO(uploaded['train.csv']))"
      ],
      "metadata": {
        "id": "FSj2xzV97Dif"
      },
      "execution_count": 3,
      "outputs": []
    },
    {
      "cell_type": "markdown",
      "source": [
        "#data EDA"
      ],
      "metadata": {
        "id": "jAvpGbJLB2Xs"
      }
    },
    {
      "cell_type": "code",
      "source": [
        "data.head()"
      ],
      "metadata": {
        "id": "du8k3AMS7clw",
        "colab": {
          "base_uri": "https://localhost:8080/",
          "height": 438
        },
        "outputId": "3fa591a5-5e84-41aa-ca26-43be0579d1ad"
      },
      "execution_count": 7,
      "outputs": [
        {
          "output_type": "execute_result",
          "data": {
            "text/plain": [
              "   Unnamed: 0      id  Gender      Customer Type  Age   Type of Travel  \\\n",
              "0           0   70172    Male     Loyal Customer   13  Personal Travel   \n",
              "1           1    5047    Male  disloyal Customer   25  Business travel   \n",
              "2           2  110028  Female     Loyal Customer   26  Business travel   \n",
              "3           3   24026  Female     Loyal Customer   25  Business travel   \n",
              "4           4  119299    Male     Loyal Customer   61  Business travel   \n",
              "\n",
              "      Class  Flight Distance  Inflight wifi service  \\\n",
              "0  Eco Plus              460                      3   \n",
              "1  Business              235                      3   \n",
              "2  Business             1142                      2   \n",
              "3  Business              562                      2   \n",
              "4  Business              214                      3   \n",
              "\n",
              "   Departure/Arrival time convenient  ...  Inflight entertainment  \\\n",
              "0                                  4  ...                       5   \n",
              "1                                  2  ...                       1   \n",
              "2                                  2  ...                       5   \n",
              "3                                  5  ...                       2   \n",
              "4                                  3  ...                       3   \n",
              "\n",
              "   On-board service  Leg room service  Baggage handling  Checkin service  \\\n",
              "0                 4                 3                 4                4   \n",
              "1                 1                 5                 3                1   \n",
              "2                 4                 3                 4                4   \n",
              "3                 2                 5                 3                1   \n",
              "4                 3                 4                 4                3   \n",
              "\n",
              "   Inflight service  Cleanliness  Departure Delay in Minutes  \\\n",
              "0                 5            5                          25   \n",
              "1                 4            1                           1   \n",
              "2                 4            5                           0   \n",
              "3                 4            2                          11   \n",
              "4                 3            3                           0   \n",
              "\n",
              "   Arrival Delay in Minutes             satisfaction  \n",
              "0                      18.0  neutral or dissatisfied  \n",
              "1                       6.0  neutral or dissatisfied  \n",
              "2                       0.0                satisfied  \n",
              "3                       9.0  neutral or dissatisfied  \n",
              "4                       0.0                satisfied  \n",
              "\n",
              "[5 rows x 25 columns]"
            ],
            "text/html": [
              "\n",
              "  <div id=\"df-3a844bfa-edd5-41f5-937d-f69fd1e6abd7\">\n",
              "    <div class=\"colab-df-container\">\n",
              "      <div>\n",
              "<style scoped>\n",
              "    .dataframe tbody tr th:only-of-type {\n",
              "        vertical-align: middle;\n",
              "    }\n",
              "\n",
              "    .dataframe tbody tr th {\n",
              "        vertical-align: top;\n",
              "    }\n",
              "\n",
              "    .dataframe thead th {\n",
              "        text-align: right;\n",
              "    }\n",
              "</style>\n",
              "<table border=\"1\" class=\"dataframe\">\n",
              "  <thead>\n",
              "    <tr style=\"text-align: right;\">\n",
              "      <th></th>\n",
              "      <th>Unnamed: 0</th>\n",
              "      <th>id</th>\n",
              "      <th>Gender</th>\n",
              "      <th>Customer Type</th>\n",
              "      <th>Age</th>\n",
              "      <th>Type of Travel</th>\n",
              "      <th>Class</th>\n",
              "      <th>Flight Distance</th>\n",
              "      <th>Inflight wifi service</th>\n",
              "      <th>Departure/Arrival time convenient</th>\n",
              "      <th>...</th>\n",
              "      <th>Inflight entertainment</th>\n",
              "      <th>On-board service</th>\n",
              "      <th>Leg room service</th>\n",
              "      <th>Baggage handling</th>\n",
              "      <th>Checkin service</th>\n",
              "      <th>Inflight service</th>\n",
              "      <th>Cleanliness</th>\n",
              "      <th>Departure Delay in Minutes</th>\n",
              "      <th>Arrival Delay in Minutes</th>\n",
              "      <th>satisfaction</th>\n",
              "    </tr>\n",
              "  </thead>\n",
              "  <tbody>\n",
              "    <tr>\n",
              "      <th>0</th>\n",
              "      <td>0</td>\n",
              "      <td>70172</td>\n",
              "      <td>Male</td>\n",
              "      <td>Loyal Customer</td>\n",
              "      <td>13</td>\n",
              "      <td>Personal Travel</td>\n",
              "      <td>Eco Plus</td>\n",
              "      <td>460</td>\n",
              "      <td>3</td>\n",
              "      <td>4</td>\n",
              "      <td>...</td>\n",
              "      <td>5</td>\n",
              "      <td>4</td>\n",
              "      <td>3</td>\n",
              "      <td>4</td>\n",
              "      <td>4</td>\n",
              "      <td>5</td>\n",
              "      <td>5</td>\n",
              "      <td>25</td>\n",
              "      <td>18.0</td>\n",
              "      <td>neutral or dissatisfied</td>\n",
              "    </tr>\n",
              "    <tr>\n",
              "      <th>1</th>\n",
              "      <td>1</td>\n",
              "      <td>5047</td>\n",
              "      <td>Male</td>\n",
              "      <td>disloyal Customer</td>\n",
              "      <td>25</td>\n",
              "      <td>Business travel</td>\n",
              "      <td>Business</td>\n",
              "      <td>235</td>\n",
              "      <td>3</td>\n",
              "      <td>2</td>\n",
              "      <td>...</td>\n",
              "      <td>1</td>\n",
              "      <td>1</td>\n",
              "      <td>5</td>\n",
              "      <td>3</td>\n",
              "      <td>1</td>\n",
              "      <td>4</td>\n",
              "      <td>1</td>\n",
              "      <td>1</td>\n",
              "      <td>6.0</td>\n",
              "      <td>neutral or dissatisfied</td>\n",
              "    </tr>\n",
              "    <tr>\n",
              "      <th>2</th>\n",
              "      <td>2</td>\n",
              "      <td>110028</td>\n",
              "      <td>Female</td>\n",
              "      <td>Loyal Customer</td>\n",
              "      <td>26</td>\n",
              "      <td>Business travel</td>\n",
              "      <td>Business</td>\n",
              "      <td>1142</td>\n",
              "      <td>2</td>\n",
              "      <td>2</td>\n",
              "      <td>...</td>\n",
              "      <td>5</td>\n",
              "      <td>4</td>\n",
              "      <td>3</td>\n",
              "      <td>4</td>\n",
              "      <td>4</td>\n",
              "      <td>4</td>\n",
              "      <td>5</td>\n",
              "      <td>0</td>\n",
              "      <td>0.0</td>\n",
              "      <td>satisfied</td>\n",
              "    </tr>\n",
              "    <tr>\n",
              "      <th>3</th>\n",
              "      <td>3</td>\n",
              "      <td>24026</td>\n",
              "      <td>Female</td>\n",
              "      <td>Loyal Customer</td>\n",
              "      <td>25</td>\n",
              "      <td>Business travel</td>\n",
              "      <td>Business</td>\n",
              "      <td>562</td>\n",
              "      <td>2</td>\n",
              "      <td>5</td>\n",
              "      <td>...</td>\n",
              "      <td>2</td>\n",
              "      <td>2</td>\n",
              "      <td>5</td>\n",
              "      <td>3</td>\n",
              "      <td>1</td>\n",
              "      <td>4</td>\n",
              "      <td>2</td>\n",
              "      <td>11</td>\n",
              "      <td>9.0</td>\n",
              "      <td>neutral or dissatisfied</td>\n",
              "    </tr>\n",
              "    <tr>\n",
              "      <th>4</th>\n",
              "      <td>4</td>\n",
              "      <td>119299</td>\n",
              "      <td>Male</td>\n",
              "      <td>Loyal Customer</td>\n",
              "      <td>61</td>\n",
              "      <td>Business travel</td>\n",
              "      <td>Business</td>\n",
              "      <td>214</td>\n",
              "      <td>3</td>\n",
              "      <td>3</td>\n",
              "      <td>...</td>\n",
              "      <td>3</td>\n",
              "      <td>3</td>\n",
              "      <td>4</td>\n",
              "      <td>4</td>\n",
              "      <td>3</td>\n",
              "      <td>3</td>\n",
              "      <td>3</td>\n",
              "      <td>0</td>\n",
              "      <td>0.0</td>\n",
              "      <td>satisfied</td>\n",
              "    </tr>\n",
              "  </tbody>\n",
              "</table>\n",
              "<p>5 rows × 25 columns</p>\n",
              "</div>\n",
              "      <button class=\"colab-df-convert\" onclick=\"convertToInteractive('df-3a844bfa-edd5-41f5-937d-f69fd1e6abd7')\"\n",
              "              title=\"Convert this dataframe to an interactive table.\"\n",
              "              style=\"display:none;\">\n",
              "        \n",
              "  <svg xmlns=\"http://www.w3.org/2000/svg\" height=\"24px\"viewBox=\"0 0 24 24\"\n",
              "       width=\"24px\">\n",
              "    <path d=\"M0 0h24v24H0V0z\" fill=\"none\"/>\n",
              "    <path d=\"M18.56 5.44l.94 2.06.94-2.06 2.06-.94-2.06-.94-.94-2.06-.94 2.06-2.06.94zm-11 1L8.5 8.5l.94-2.06 2.06-.94-2.06-.94L8.5 2.5l-.94 2.06-2.06.94zm10 10l.94 2.06.94-2.06 2.06-.94-2.06-.94-.94-2.06-.94 2.06-2.06.94z\"/><path d=\"M17.41 7.96l-1.37-1.37c-.4-.4-.92-.59-1.43-.59-.52 0-1.04.2-1.43.59L10.3 9.45l-7.72 7.72c-.78.78-.78 2.05 0 2.83L4 21.41c.39.39.9.59 1.41.59.51 0 1.02-.2 1.41-.59l7.78-7.78 2.81-2.81c.8-.78.8-2.07 0-2.86zM5.41 20L4 18.59l7.72-7.72 1.47 1.35L5.41 20z\"/>\n",
              "  </svg>\n",
              "      </button>\n",
              "      \n",
              "  <style>\n",
              "    .colab-df-container {\n",
              "      display:flex;\n",
              "      flex-wrap:wrap;\n",
              "      gap: 12px;\n",
              "    }\n",
              "\n",
              "    .colab-df-convert {\n",
              "      background-color: #E8F0FE;\n",
              "      border: none;\n",
              "      border-radius: 50%;\n",
              "      cursor: pointer;\n",
              "      display: none;\n",
              "      fill: #1967D2;\n",
              "      height: 32px;\n",
              "      padding: 0 0 0 0;\n",
              "      width: 32px;\n",
              "    }\n",
              "\n",
              "    .colab-df-convert:hover {\n",
              "      background-color: #E2EBFA;\n",
              "      box-shadow: 0px 1px 2px rgba(60, 64, 67, 0.3), 0px 1px 3px 1px rgba(60, 64, 67, 0.15);\n",
              "      fill: #174EA6;\n",
              "    }\n",
              "\n",
              "    [theme=dark] .colab-df-convert {\n",
              "      background-color: #3B4455;\n",
              "      fill: #D2E3FC;\n",
              "    }\n",
              "\n",
              "    [theme=dark] .colab-df-convert:hover {\n",
              "      background-color: #434B5C;\n",
              "      box-shadow: 0px 1px 3px 1px rgba(0, 0, 0, 0.15);\n",
              "      filter: drop-shadow(0px 1px 2px rgba(0, 0, 0, 0.3));\n",
              "      fill: #FFFFFF;\n",
              "    }\n",
              "  </style>\n",
              "\n",
              "      <script>\n",
              "        const buttonEl =\n",
              "          document.querySelector('#df-3a844bfa-edd5-41f5-937d-f69fd1e6abd7 button.colab-df-convert');\n",
              "        buttonEl.style.display =\n",
              "          google.colab.kernel.accessAllowed ? 'block' : 'none';\n",
              "\n",
              "        async function convertToInteractive(key) {\n",
              "          const element = document.querySelector('#df-3a844bfa-edd5-41f5-937d-f69fd1e6abd7');\n",
              "          const dataTable =\n",
              "            await google.colab.kernel.invokeFunction('convertToInteractive',\n",
              "                                                     [key], {});\n",
              "          if (!dataTable) return;\n",
              "\n",
              "          const docLinkHtml = 'Like what you see? Visit the ' +\n",
              "            '<a target=\"_blank\" href=https://colab.research.google.com/notebooks/data_table.ipynb>data table notebook</a>'\n",
              "            + ' to learn more about interactive tables.';\n",
              "          element.innerHTML = '';\n",
              "          dataTable['output_type'] = 'display_data';\n",
              "          await google.colab.output.renderOutput(dataTable, element);\n",
              "          const docLink = document.createElement('div');\n",
              "          docLink.innerHTML = docLinkHtml;\n",
              "          element.appendChild(docLink);\n",
              "        }\n",
              "      </script>\n",
              "    </div>\n",
              "  </div>\n",
              "  "
            ]
          },
          "metadata": {},
          "execution_count": 7
        }
      ]
    },
    {
      "cell_type": "code",
      "source": [
        "data.info()"
      ],
      "metadata": {
        "colab": {
          "base_uri": "https://localhost:8080/"
        },
        "id": "zUqE3jVeAUVV",
        "outputId": "9387640d-c27c-4d92-cdd8-4f5d5ce60d0e"
      },
      "execution_count": 8,
      "outputs": [
        {
          "output_type": "stream",
          "name": "stdout",
          "text": [
            "<class 'pandas.core.frame.DataFrame'>\n",
            "RangeIndex: 103904 entries, 0 to 103903\n",
            "Data columns (total 25 columns):\n",
            " #   Column                             Non-Null Count   Dtype  \n",
            "---  ------                             --------------   -----  \n",
            " 0   Unnamed: 0                         103904 non-null  int64  \n",
            " 1   id                                 103904 non-null  int64  \n",
            " 2   Gender                             103904 non-null  object \n",
            " 3   Customer Type                      103904 non-null  object \n",
            " 4   Age                                103904 non-null  int64  \n",
            " 5   Type of Travel                     103904 non-null  object \n",
            " 6   Class                              103904 non-null  object \n",
            " 7   Flight Distance                    103904 non-null  int64  \n",
            " 8   Inflight wifi service              103904 non-null  int64  \n",
            " 9   Departure/Arrival time convenient  103904 non-null  int64  \n",
            " 10  Ease of Online booking             103904 non-null  int64  \n",
            " 11  Gate location                      103904 non-null  int64  \n",
            " 12  Food and drink                     103904 non-null  int64  \n",
            " 13  Online boarding                    103904 non-null  int64  \n",
            " 14  Seat comfort                       103904 non-null  int64  \n",
            " 15  Inflight entertainment             103904 non-null  int64  \n",
            " 16  On-board service                   103904 non-null  int64  \n",
            " 17  Leg room service                   103904 non-null  int64  \n",
            " 18  Baggage handling                   103904 non-null  int64  \n",
            " 19  Checkin service                    103904 non-null  int64  \n",
            " 20  Inflight service                   103904 non-null  int64  \n",
            " 21  Cleanliness                        103904 non-null  int64  \n",
            " 22  Departure Delay in Minutes         103904 non-null  int64  \n",
            " 23  Arrival Delay in Minutes           103594 non-null  float64\n",
            " 24  satisfaction                       103904 non-null  object \n",
            "dtypes: float64(1), int64(19), object(5)\n",
            "memory usage: 19.8+ MB\n"
          ]
        }
      ]
    },
    {
      "cell_type": "code",
      "source": [
        "mising_value=data.isnull().sum().sort_values(ascending=False)\n",
        "percent= (data.isnull().sum()/data.isnull().count()).sort_values(ascending=False)\n",
        "missing=pd.concat([mising_value,percent],axis=1,keys=['number','percent'])\n",
        "missing"
      ],
      "metadata": {
        "colab": {
          "base_uri": "https://localhost:8080/",
          "height": 833
        },
        "id": "qaBT8Y9yBxsY",
        "outputId": "43dab88a-2ac4-4a2b-b6c7-eef992cb067b"
      },
      "execution_count": 9,
      "outputs": [
        {
          "output_type": "execute_result",
          "data": {
            "text/plain": [
              "                                   number   percent\n",
              "Arrival Delay in Minutes              310  0.002984\n",
              "Unnamed: 0                              0  0.000000\n",
              "Online boarding                         0  0.000000\n",
              "Departure Delay in Minutes              0  0.000000\n",
              "Cleanliness                             0  0.000000\n",
              "Inflight service                        0  0.000000\n",
              "Checkin service                         0  0.000000\n",
              "Baggage handling                        0  0.000000\n",
              "Leg room service                        0  0.000000\n",
              "On-board service                        0  0.000000\n",
              "Inflight entertainment                  0  0.000000\n",
              "Seat comfort                            0  0.000000\n",
              "Food and drink                          0  0.000000\n",
              "id                                      0  0.000000\n",
              "Gate location                           0  0.000000\n",
              "Ease of Online booking                  0  0.000000\n",
              "Departure/Arrival time convenient       0  0.000000\n",
              "Inflight wifi service                   0  0.000000\n",
              "Flight Distance                         0  0.000000\n",
              "Class                                   0  0.000000\n",
              "Type of Travel                          0  0.000000\n",
              "Age                                     0  0.000000\n",
              "Customer Type                           0  0.000000\n",
              "Gender                                  0  0.000000\n",
              "satisfaction                            0  0.000000"
            ],
            "text/html": [
              "\n",
              "  <div id=\"df-ba4f412f-3d57-485a-a81b-1f3cf5bd9b2d\">\n",
              "    <div class=\"colab-df-container\">\n",
              "      <div>\n",
              "<style scoped>\n",
              "    .dataframe tbody tr th:only-of-type {\n",
              "        vertical-align: middle;\n",
              "    }\n",
              "\n",
              "    .dataframe tbody tr th {\n",
              "        vertical-align: top;\n",
              "    }\n",
              "\n",
              "    .dataframe thead th {\n",
              "        text-align: right;\n",
              "    }\n",
              "</style>\n",
              "<table border=\"1\" class=\"dataframe\">\n",
              "  <thead>\n",
              "    <tr style=\"text-align: right;\">\n",
              "      <th></th>\n",
              "      <th>number</th>\n",
              "      <th>percent</th>\n",
              "    </tr>\n",
              "  </thead>\n",
              "  <tbody>\n",
              "    <tr>\n",
              "      <th>Arrival Delay in Minutes</th>\n",
              "      <td>310</td>\n",
              "      <td>0.002984</td>\n",
              "    </tr>\n",
              "    <tr>\n",
              "      <th>Unnamed: 0</th>\n",
              "      <td>0</td>\n",
              "      <td>0.000000</td>\n",
              "    </tr>\n",
              "    <tr>\n",
              "      <th>Online boarding</th>\n",
              "      <td>0</td>\n",
              "      <td>0.000000</td>\n",
              "    </tr>\n",
              "    <tr>\n",
              "      <th>Departure Delay in Minutes</th>\n",
              "      <td>0</td>\n",
              "      <td>0.000000</td>\n",
              "    </tr>\n",
              "    <tr>\n",
              "      <th>Cleanliness</th>\n",
              "      <td>0</td>\n",
              "      <td>0.000000</td>\n",
              "    </tr>\n",
              "    <tr>\n",
              "      <th>Inflight service</th>\n",
              "      <td>0</td>\n",
              "      <td>0.000000</td>\n",
              "    </tr>\n",
              "    <tr>\n",
              "      <th>Checkin service</th>\n",
              "      <td>0</td>\n",
              "      <td>0.000000</td>\n",
              "    </tr>\n",
              "    <tr>\n",
              "      <th>Baggage handling</th>\n",
              "      <td>0</td>\n",
              "      <td>0.000000</td>\n",
              "    </tr>\n",
              "    <tr>\n",
              "      <th>Leg room service</th>\n",
              "      <td>0</td>\n",
              "      <td>0.000000</td>\n",
              "    </tr>\n",
              "    <tr>\n",
              "      <th>On-board service</th>\n",
              "      <td>0</td>\n",
              "      <td>0.000000</td>\n",
              "    </tr>\n",
              "    <tr>\n",
              "      <th>Inflight entertainment</th>\n",
              "      <td>0</td>\n",
              "      <td>0.000000</td>\n",
              "    </tr>\n",
              "    <tr>\n",
              "      <th>Seat comfort</th>\n",
              "      <td>0</td>\n",
              "      <td>0.000000</td>\n",
              "    </tr>\n",
              "    <tr>\n",
              "      <th>Food and drink</th>\n",
              "      <td>0</td>\n",
              "      <td>0.000000</td>\n",
              "    </tr>\n",
              "    <tr>\n",
              "      <th>id</th>\n",
              "      <td>0</td>\n",
              "      <td>0.000000</td>\n",
              "    </tr>\n",
              "    <tr>\n",
              "      <th>Gate location</th>\n",
              "      <td>0</td>\n",
              "      <td>0.000000</td>\n",
              "    </tr>\n",
              "    <tr>\n",
              "      <th>Ease of Online booking</th>\n",
              "      <td>0</td>\n",
              "      <td>0.000000</td>\n",
              "    </tr>\n",
              "    <tr>\n",
              "      <th>Departure/Arrival time convenient</th>\n",
              "      <td>0</td>\n",
              "      <td>0.000000</td>\n",
              "    </tr>\n",
              "    <tr>\n",
              "      <th>Inflight wifi service</th>\n",
              "      <td>0</td>\n",
              "      <td>0.000000</td>\n",
              "    </tr>\n",
              "    <tr>\n",
              "      <th>Flight Distance</th>\n",
              "      <td>0</td>\n",
              "      <td>0.000000</td>\n",
              "    </tr>\n",
              "    <tr>\n",
              "      <th>Class</th>\n",
              "      <td>0</td>\n",
              "      <td>0.000000</td>\n",
              "    </tr>\n",
              "    <tr>\n",
              "      <th>Type of Travel</th>\n",
              "      <td>0</td>\n",
              "      <td>0.000000</td>\n",
              "    </tr>\n",
              "    <tr>\n",
              "      <th>Age</th>\n",
              "      <td>0</td>\n",
              "      <td>0.000000</td>\n",
              "    </tr>\n",
              "    <tr>\n",
              "      <th>Customer Type</th>\n",
              "      <td>0</td>\n",
              "      <td>0.000000</td>\n",
              "    </tr>\n",
              "    <tr>\n",
              "      <th>Gender</th>\n",
              "      <td>0</td>\n",
              "      <td>0.000000</td>\n",
              "    </tr>\n",
              "    <tr>\n",
              "      <th>satisfaction</th>\n",
              "      <td>0</td>\n",
              "      <td>0.000000</td>\n",
              "    </tr>\n",
              "  </tbody>\n",
              "</table>\n",
              "</div>\n",
              "      <button class=\"colab-df-convert\" onclick=\"convertToInteractive('df-ba4f412f-3d57-485a-a81b-1f3cf5bd9b2d')\"\n",
              "              title=\"Convert this dataframe to an interactive table.\"\n",
              "              style=\"display:none;\">\n",
              "        \n",
              "  <svg xmlns=\"http://www.w3.org/2000/svg\" height=\"24px\"viewBox=\"0 0 24 24\"\n",
              "       width=\"24px\">\n",
              "    <path d=\"M0 0h24v24H0V0z\" fill=\"none\"/>\n",
              "    <path d=\"M18.56 5.44l.94 2.06.94-2.06 2.06-.94-2.06-.94-.94-2.06-.94 2.06-2.06.94zm-11 1L8.5 8.5l.94-2.06 2.06-.94-2.06-.94L8.5 2.5l-.94 2.06-2.06.94zm10 10l.94 2.06.94-2.06 2.06-.94-2.06-.94-.94-2.06-.94 2.06-2.06.94z\"/><path d=\"M17.41 7.96l-1.37-1.37c-.4-.4-.92-.59-1.43-.59-.52 0-1.04.2-1.43.59L10.3 9.45l-7.72 7.72c-.78.78-.78 2.05 0 2.83L4 21.41c.39.39.9.59 1.41.59.51 0 1.02-.2 1.41-.59l7.78-7.78 2.81-2.81c.8-.78.8-2.07 0-2.86zM5.41 20L4 18.59l7.72-7.72 1.47 1.35L5.41 20z\"/>\n",
              "  </svg>\n",
              "      </button>\n",
              "      \n",
              "  <style>\n",
              "    .colab-df-container {\n",
              "      display:flex;\n",
              "      flex-wrap:wrap;\n",
              "      gap: 12px;\n",
              "    }\n",
              "\n",
              "    .colab-df-convert {\n",
              "      background-color: #E8F0FE;\n",
              "      border: none;\n",
              "      border-radius: 50%;\n",
              "      cursor: pointer;\n",
              "      display: none;\n",
              "      fill: #1967D2;\n",
              "      height: 32px;\n",
              "      padding: 0 0 0 0;\n",
              "      width: 32px;\n",
              "    }\n",
              "\n",
              "    .colab-df-convert:hover {\n",
              "      background-color: #E2EBFA;\n",
              "      box-shadow: 0px 1px 2px rgba(60, 64, 67, 0.3), 0px 1px 3px 1px rgba(60, 64, 67, 0.15);\n",
              "      fill: #174EA6;\n",
              "    }\n",
              "\n",
              "    [theme=dark] .colab-df-convert {\n",
              "      background-color: #3B4455;\n",
              "      fill: #D2E3FC;\n",
              "    }\n",
              "\n",
              "    [theme=dark] .colab-df-convert:hover {\n",
              "      background-color: #434B5C;\n",
              "      box-shadow: 0px 1px 3px 1px rgba(0, 0, 0, 0.15);\n",
              "      filter: drop-shadow(0px 1px 2px rgba(0, 0, 0, 0.3));\n",
              "      fill: #FFFFFF;\n",
              "    }\n",
              "  </style>\n",
              "\n",
              "      <script>\n",
              "        const buttonEl =\n",
              "          document.querySelector('#df-ba4f412f-3d57-485a-a81b-1f3cf5bd9b2d button.colab-df-convert');\n",
              "        buttonEl.style.display =\n",
              "          google.colab.kernel.accessAllowed ? 'block' : 'none';\n",
              "\n",
              "        async function convertToInteractive(key) {\n",
              "          const element = document.querySelector('#df-ba4f412f-3d57-485a-a81b-1f3cf5bd9b2d');\n",
              "          const dataTable =\n",
              "            await google.colab.kernel.invokeFunction('convertToInteractive',\n",
              "                                                     [key], {});\n",
              "          if (!dataTable) return;\n",
              "\n",
              "          const docLinkHtml = 'Like what you see? Visit the ' +\n",
              "            '<a target=\"_blank\" href=https://colab.research.google.com/notebooks/data_table.ipynb>data table notebook</a>'\n",
              "            + ' to learn more about interactive tables.';\n",
              "          element.innerHTML = '';\n",
              "          dataTable['output_type'] = 'display_data';\n",
              "          await google.colab.output.renderOutput(dataTable, element);\n",
              "          const docLink = document.createElement('div');\n",
              "          docLink.innerHTML = docLinkHtml;\n",
              "          element.appendChild(docLink);\n",
              "        }\n",
              "      </script>\n",
              "    </div>\n",
              "  </div>\n",
              "  "
            ]
          },
          "metadata": {},
          "execution_count": 9
        }
      ]
    },
    {
      "cell_type": "code",
      "source": [
        "categorical_indexes = [0, 1, 3, 4] + list(range(6, 20))\n",
        "categorical_indexes"
      ],
      "metadata": {
        "colab": {
          "base_uri": "https://localhost:8080/"
        },
        "id": "ayDYDzzSCxo1",
        "outputId": "3dc44a8b-2514-47be-fe3d-d314a0a0df9d"
      },
      "execution_count": 10,
      "outputs": [
        {
          "output_type": "execute_result",
          "data": {
            "text/plain": [
              "[0, 1, 3, 4, 6, 7, 8, 9, 10, 11, 12, 13, 14, 15, 16, 17, 18, 19]"
            ]
          },
          "metadata": {},
          "execution_count": 10
        }
      ]
    },
    {
      "cell_type": "code",
      "source": [
        "import seaborn as sns\n",
        "plt.pie(data.satisfaction.value_counts(), labels = [\"Neutral or dissatisfied\", \"Satisfied\"], colors = sns.color_palette(\"YlOrBr\"),\n",
        "        autopct = '%.3f%%')\n",
        "pass"
      ],
      "metadata": {
        "colab": {
          "base_uri": "https://localhost:8080/",
          "height": 248
        },
        "id": "Weyhw28gtFUa",
        "outputId": "a9ff1b3f-7798-47eb-b63e-4ef9c8ddbc9d"
      },
      "execution_count": 11,
      "outputs": [
        {
          "output_type": "display_data",
          "data": {
            "text/plain": [
              "<Figure size 432x288 with 1 Axes>"
            ],
            "image/png": "[encoded data removed]"
          },
          "metadata": {}
        }
      ]
    },
    {
      "cell_type": "code",
      "source": [
        "data=data.drop(data.iloc[:,[0,1]],axis=1)#drop useless columns --Unnamed: 0 and id\n"
      ],
      "metadata": {
        "id": "AKU9cDLTxZqO"
      },
      "execution_count": 12,
      "outputs": []
    },
    {
      "cell_type": "code",
      "source": [
        "category=[0,1,3,4]+[i for i in range(6,20)]"
      ],
      "metadata": {
        "id": "Z8LG_wY-x3vM"
      },
      "execution_count": 13,
      "outputs": []
    },
    {
      "cell_type": "code",
      "source": [
        "# data['Gate location']\n",
        "data.iloc[:,category]=data.iloc[:,category].astype('category')"
      ],
      "metadata": {
        "id": "5GuJ7Kk9ycqc"
      },
      "execution_count": 14,
      "outputs": []
    },
    {
      "cell_type": "code",
      "source": [
        "data.info()"
      ],
      "metadata": {
        "colab": {
          "base_uri": "https://localhost:8080/"
        },
        "id": "BkgmVotdydSH",
        "outputId": "0e9cfe86-3896-43ad-d116-754c510dcb67"
      },
      "execution_count": 15,
      "outputs": [
        {
          "output_type": "stream",
          "name": "stdout",
          "text": [
            "<class 'pandas.core.frame.DataFrame'>\n",
            "RangeIndex: 103904 entries, 0 to 103903\n",
            "Data columns (total 23 columns):\n",
            " #   Column                             Non-Null Count   Dtype   \n",
            "---  ------                             --------------   -----   \n",
            " 0   Gender                             103904 non-null  category\n",
            " 1   Customer Type                      103904 non-null  category\n",
            " 2   Age                                103904 non-null  int64   \n",
            " 3   Type of Travel                     103904 non-null  category\n",
            " 4   Class                              103904 non-null  category\n",
            " 5   Flight Distance                    103904 non-null  int64   \n",
            " 6   Inflight wifi service              103904 non-null  category\n",
            " 7   Departure/Arrival time convenient  103904 non-null  category\n",
            " 8   Ease of Online booking             103904 non-null  category\n",
            " 9   Gate location                      103904 non-null  category\n",
            " 10  Food and drink                     103904 non-null  category\n",
            " 11  Online boarding                    103904 non-null  category\n",
            " 12  Seat comfort                       103904 non-null  category\n",
            " 13  Inflight entertainment             103904 non-null  category\n",
            " 14  On-board service                   103904 non-null  category\n",
            " 15  Leg room service                   103904 non-null  category\n",
            " 16  Baggage handling                   103904 non-null  category\n",
            " 17  Checkin service                    103904 non-null  category\n",
            " 18  Inflight service                   103904 non-null  category\n",
            " 19  Cleanliness                        103904 non-null  category\n",
            " 20  Departure Delay in Minutes         103904 non-null  int64   \n",
            " 21  Arrival Delay in Minutes           103594 non-null  float64 \n",
            " 22  satisfaction                       103904 non-null  object  \n",
            "dtypes: category(18), float64(1), int64(3), object(1)\n",
            "memory usage: 5.8+ MB\n"
          ]
        }
      ]
    },
    {
      "cell_type": "markdown",
      "source": [
        "##numerical data EDA"
      ],
      "metadata": {
        "id": "tQHFCItJ40Io"
      }
    },
    {
      "cell_type": "code",
      "source": [
        "corr_mat = data.corr()\n",
        "corr_mat"
      ],
      "metadata": {
        "colab": {
          "base_uri": "https://localhost:8080/",
          "height": 175
        },
        "id": "49SFALqczW-j",
        "outputId": "1bb06fdd-79f2-4666-979f-a343d9d4e3a2"
      },
      "execution_count": 19,
      "outputs": [
        {
          "output_type": "execute_result",
          "data": {
            "text/plain": [
              "                                 Age  Flight Distance  \\\n",
              "Age                         1.000000         0.099461   \n",
              "Flight Distance             0.099461         1.000000   \n",
              "Departure Delay in Minutes -0.010152         0.002158   \n",
              "Arrival Delay in Minutes   -0.012147        -0.002426   \n",
              "\n",
              "                            Departure Delay in Minutes  \\\n",
              "Age                                          -0.010152   \n",
              "Flight Distance                               0.002158   \n",
              "Departure Delay in Minutes                    1.000000   \n",
              "Arrival Delay in Minutes                      0.965481   \n",
              "\n",
              "                            Arrival Delay in Minutes  \n",
              "Age                                        -0.012147  \n",
              "Flight Distance                            -0.002426  \n",
              "Departure Delay in Minutes                  0.965481  \n",
              "Arrival Delay in Minutes                    1.000000  "
            ],
            "text/html": [
              "\n",
              "  <div id=\"df-1f6359bc-1b77-440f-825a-b7d056fee207\">\n",
              "    <div class=\"colab-df-container\">\n",
              "      <div>\n",
              "<style scoped>\n",
              "    .dataframe tbody tr th:only-of-type {\n",
              "        vertical-align: middle;\n",
              "    }\n",
              "\n",
              "    .dataframe tbody tr th {\n",
              "        vertical-align: top;\n",
              "    }\n",
              "\n",
              "    .dataframe thead th {\n",
              "        text-align: right;\n",
              "    }\n",
              "</style>\n",
              "<table border=\"1\" class=\"dataframe\">\n",
              "  <thead>\n",
              "    <tr style=\"text-align: right;\">\n",
              "      <th></th>\n",
              "      <th>Age</th>\n",
              "      <th>Flight Distance</th>\n",
              "      <th>Departure Delay in Minutes</th>\n",
              "      <th>Arrival Delay in Minutes</th>\n",
              "    </tr>\n",
              "  </thead>\n",
              "  <tbody>\n",
              "    <tr>\n",
              "      <th>Age</th>\n",
              "      <td>1.000000</td>\n",
              "      <td>0.099461</td>\n",
              "      <td>-0.010152</td>\n",
              "      <td>-0.012147</td>\n",
              "    </tr>\n",
              "    <tr>\n",
              "      <th>Flight Distance</th>\n",
              "      <td>0.099461</td>\n",
              "      <td>1.000000</td>\n",
              "      <td>0.002158</td>\n",
              "      <td>-0.002426</td>\n",
              "    </tr>\n",
              "    <tr>\n",
              "      <th>Departure Delay in Minutes</th>\n",
              "      <td>-0.010152</td>\n",
              "      <td>0.002158</td>\n",
              "      <td>1.000000</td>\n",
              "      <td>0.965481</td>\n",
              "    </tr>\n",
              "    <tr>\n",
              "      <th>Arrival Delay in Minutes</th>\n",
              "      <td>-0.012147</td>\n",
              "      <td>-0.002426</td>\n",
              "      <td>0.965481</td>\n",
              "      <td>1.000000</td>\n",
              "    </tr>\n",
              "  </tbody>\n",
              "</table>\n",
              "</div>\n",
              "      <button class=\"colab-df-convert\" onclick=\"convertToInteractive('df-1f6359bc-1b77-440f-825a-b7d056fee207')\"\n",
              "              title=\"Convert this dataframe to an interactive table.\"\n",
              "              style=\"display:none;\">\n",
              "        \n",
              "  <svg xmlns=\"http://www.w3.org/2000/svg\" height=\"24px\"viewBox=\"0 0 24 24\"\n",
              "       width=\"24px\">\n",
              "    <path d=\"M0 0h24v24H0V0z\" fill=\"none\"/>\n",
              "    <path d=\"M18.56 5.44l.94 2.06.94-2.06 2.06-.94-2.06-.94-.94-2.06-.94 2.06-2.06.94zm-11 1L8.5 8.5l.94-2.06 2.06-.94-2.06-.94L8.5 2.5l-.94 2.06-2.06.94zm10 10l.94 2.06.94-2.06 2.06-.94-2.06-.94-.94-2.06-.94 2.06-2.06.94z\"/><path d=\"M17.41 7.96l-1.37-1.37c-.4-.4-.92-.59-1.43-.59-.52 0-1.04.2-1.43.59L10.3 9.45l-7.72 7.72c-.78.78-.78 2.05 0 2.83L4 21.41c.39.39.9.59 1.41.59.51 0 1.02-.2 1.41-.59l7.78-7.78 2.81-2.81c.8-.78.8-2.07 0-2.86zM5.41 20L4 18.59l7.72-7.72 1.47 1.35L5.41 20z\"/>\n",
              "  </svg>\n",
              "      </button>\n",
              "      \n",
              "  <style>\n",
              "    .colab-df-container {\n",
              "      display:flex;\n",
              "      flex-wrap:wrap;\n",
              "      gap: 12px;\n",
              "    }\n",
              "\n",
              "    .colab-df-convert {\n",
              "      background-color: #E8F0FE;\n",
              "      border: none;\n",
              "      border-radius: 50%;\n",
              "      cursor: pointer;\n",
              "      display: none;\n",
              "      fill: #1967D2;\n",
              "      height: 32px;\n",
              "      padding: 0 0 0 0;\n",
              "      width: 32px;\n",
              "    }\n",
              "\n",
              "    .colab-df-convert:hover {\n",
              "      background-color: #E2EBFA;\n",
              "      box-shadow: 0px 1px 2px rgba(60, 64, 67, 0.3), 0px 1px 3px 1px rgba(60, 64, 67, 0.15);\n",
              "      fill: #174EA6;\n",
              "    }\n",
              "\n",
              "    [theme=dark] .colab-df-convert {\n",
              "      background-color: #3B4455;\n",
              "      fill: #D2E3FC;\n",
              "    }\n",
              "\n",
              "    [theme=dark] .colab-df-convert:hover {\n",
              "      background-color: #434B5C;\n",
              "      box-shadow: 0px 1px 3px 1px rgba(0, 0, 0, 0.15);\n",
              "      filter: drop-shadow(0px 1px 2px rgba(0, 0, 0, 0.3));\n",
              "      fill: #FFFFFF;\n",
              "    }\n",
              "  </style>\n",
              "\n",
              "      <script>\n",
              "        const buttonEl =\n",
              "          document.querySelector('#df-1f6359bc-1b77-440f-825a-b7d056fee207 button.colab-df-convert');\n",
              "        buttonEl.style.display =\n",
              "          google.colab.kernel.accessAllowed ? 'block' : 'none';\n",
              "\n",
              "        async function convertToInteractive(key) {\n",
              "          const element = document.querySelector('#df-1f6359bc-1b77-440f-825a-b7d056fee207');\n",
              "          const dataTable =\n",
              "            await google.colab.kernel.invokeFunction('convertToInteractive',\n",
              "                                                     [key], {});\n",
              "          if (!dataTable) return;\n",
              "\n",
              "          const docLinkHtml = 'Like what you see? Visit the ' +\n",
              "            '<a target=\"_blank\" href=https://colab.research.google.com/notebooks/data_table.ipynb>data table notebook</a>'\n",
              "            + ' to learn more about interactive tables.';\n",
              "          element.innerHTML = '';\n",
              "          dataTable['output_type'] = 'display_data';\n",
              "          await google.colab.output.renderOutput(dataTable, element);\n",
              "          const docLink = document.createElement('div');\n",
              "          docLink.innerHTML = docLinkHtml;\n",
              "          element.appendChild(docLink);\n",
              "        }\n",
              "      </script>\n",
              "    </div>\n",
              "  </div>\n",
              "  "
            ]
          },
          "metadata": {},
          "execution_count": 19
        }
      ]
    },
    {
      "cell_type": "code",
      "source": [
        "sns.heatmap(corr_mat, square = True, cmap = 'Blues')"
      ],
      "metadata": {
        "colab": {
          "base_uri": "https://localhost:8080/",
          "height": 415
        },
        "id": "pPT4dFCkzq0Q",
        "outputId": "84c809c9-5332-4ed2-c083-36dfb3ca795b"
      },
      "execution_count": 20,
      "outputs": [
        {
          "output_type": "execute_result",
          "data": {
            "text/plain": [
              "<matplotlib.axes._subplots.AxesSubplot at 0x7efebf270590>"
            ]
          },
          "metadata": {},
          "execution_count": 20
        },
        {
          "output_type": "display_data",
          "data": {
            "text/plain": [
              "<Figure size 432x288 with 2 Axes>"
            ],
            "image/png": "[encoded data removed]"
          },
          "metadata": {
            "needs_background": "light"
          }
        }
      ]
    },
    {
      "cell_type": "markdown",
      "source": [
        "there is a strong correlation between the features 'Departure delay in minutes' and 'Arrival delay in minutes'."
      ],
      "metadata": {
        "id": "Vlb4hIkw4ke_"
      }
    },
    {
      "cell_type": "code",
      "source": [
        "plt.scatter(x=data['Arrival Delay in Minutes'],y=data['Departure Delay in Minutes'])\n",
        "plt.xlabel('Arrival Delay in Minutes')\n",
        "plt.ylabel('Departure Delay in Minutes')\n",
        "plt.legend()"
      ],
      "metadata": {
        "id": "AvtMQPI8zyhl",
        "colab": {
          "base_uri": "https://localhost:8080/",
          "height": 315
        },
        "outputId": "a3d152ea-d400-4e85-e4af-e45b68f29c07"
      },
      "execution_count": 21,
      "outputs": [
        {
          "output_type": "stream",
          "name": "stderr",
          "text": [
            "WARNING:matplotlib.legend:No handles with labels found to put in legend.\n"
          ]
        },
        {
          "output_type": "execute_result",
          "data": {
            "text/plain": [
              "<matplotlib.legend.Legend at 0x7efebe8bcfd0>"
            ]
          },
          "metadata": {},
          "execution_count": 21
        },
        {
          "output_type": "display_data",
          "data": {
            "text/plain": [
              "<Figure size 432x288 with 1 Axes>"
            ],
            "image/png": "[encoded data removed]"
          },
          "metadata": {
            "needs_background": "light"
          }
        }
      ]
    },
    {
      "cell_type": "markdown",
      "source": [
        "the scatter also shows strong relation between arrival delay time and departure delay time, and the scale of X and Y is symmetrical ,which make sense because the delay of arrival will direct cause the delay of next departure for same aircraft.Therefore, we may remove one of the them before build the model to avoid multicollinearity"
      ],
      "metadata": {
        "id": "xXlRE4PH5Vxm"
      }
    },
    {
      "cell_type": "markdown",
      "source": [
        "## EDA between numerical and categorical feature"
      ],
      "metadata": {
        "id": "xaOIqSwp6yik"
      }
    },
    {
      "cell_type": "code",
      "source": [
        "data.info()"
      ],
      "metadata": {
        "colab": {
          "base_uri": "https://localhost:8080/"
        },
        "id": "w1LXXqK964c5",
        "outputId": "1a1d8743-d963-44d9-a3ff-abeb1611b6d3"
      },
      "execution_count": null,
      "outputs": [
        {
          "output_type": "stream",
          "name": "stdout",
          "text": [
            "<class 'pandas.core.frame.DataFrame'>\n",
            "RangeIndex: 103904 entries, 0 to 103903\n",
            "Data columns (total 23 columns):\n",
            " #   Column                             Non-Null Count   Dtype   \n",
            "---  ------                             --------------   -----   \n",
            " 0   Gender                             103904 non-null  category\n",
            " 1   Customer Type                      103904 non-null  category\n",
            " 2   Age                                103904 non-null  int64   \n",
            " 3   Type of Travel                     103904 non-null  category\n",
            " 4   Class                              103904 non-null  category\n",
            " 5   Flight Distance                    103904 non-null  int64   \n",
            " 6   Inflight wifi service              103904 non-null  category\n",
            " 7   Departure/Arrival time convenient  103904 non-null  category\n",
            " 8   Ease of Online booking             103904 non-null  category\n",
            " 9   Gate location                      103904 non-null  category\n",
            " 10  Food and drink                     103904 non-null  category\n",
            " 11  Online boarding                    103904 non-null  category\n",
            " 12  Seat comfort                       103904 non-null  category\n",
            " 13  Inflight entertainment             103904 non-null  category\n",
            " 14  On-board service                   103904 non-null  category\n",
            " 15  Leg room service                   103904 non-null  category\n",
            " 16  Baggage handling                   103904 non-null  category\n",
            " 17  Checkin service                    103904 non-null  category\n",
            " 18  Inflight service                   103904 non-null  category\n",
            " 19  Cleanliness                        103904 non-null  category\n",
            " 20  Departure Delay in Minutes         103904 non-null  int64   \n",
            " 21  Arrival Delay in Minutes           103594 non-null  float64 \n",
            " 22  satisfaction                       103904 non-null  object  \n",
            "dtypes: category(18), float64(1), int64(3), object(1)\n",
            "memory usage: 5.8+ MB\n"
          ]
        }
      ]
    },
    {
      "cell_type": "code",
      "source": [
        "Q1=data['Arrival Delay in Minutes'].quantile(0.25)\n",
        "Q3=data['Arrival Delay in Minutes'].quantile(0.75)"
      ],
      "metadata": {
        "id": "IEcq7A75_uNW"
      },
      "execution_count": null,
      "outputs": []
    },
    {
      "cell_type": "code",
      "source": [
        "IQR=(Q3-Q1)\n",
        "non_outlier_data=data.loc[(data['Arrival Delay in Minutes']>=Q1-1.5*IQR)&(data['Arrival Delay in Minutes']<=Q3+1.5*IQR)]"
      ],
      "metadata": {
        "id": "xaq3YeAA_63V"
      },
      "execution_count": null,
      "outputs": []
    },
    {
      "cell_type": "code",
      "source": [
        "figure,axss = plt.subplots(2,2, figsize=[20,10])\n",
        "sns.boxplot(x='satisfaction',y='Age',data=data,ax=axss[0][0])\n",
        "sns.boxplot(x='satisfaction',y='Flight Distance',data=data,ax=axss[0][1])\n",
        "sns.boxplot(x='satisfaction',y='Departure Delay in Minutes',data=non_outlier_data,ax=axss[1][0])\n",
        "sns.boxplot(x='satisfaction',y='Arrival Delay in Minutes',data=non_outlier_data,ax=axss[1][1])"
      ],
      "metadata": {
        "colab": {
          "base_uri": "https://localhost:8080/",
          "height": 623
        },
        "id": "NGcecxqA64e_",
        "outputId": "dbef6922-2d32-4f0a-aa53-7946405bbe65"
      },
      "execution_count": null,
      "outputs": [
        {
          "output_type": "execute_result",
          "data": {
            "text/plain": [
              "<matplotlib.axes._subplots.AxesSubplot at 0x7efc707f4e10>"
            ]
          },
          "metadata": {},
          "execution_count": 22
        },
        {
          "output_type": "display_data",
          "data": {
            "text/plain": [
              "<Figure size 1440x720 with 4 Axes>"
            ],
            "image/png": "[encoded data removed]"
          },
          "metadata": {
            "needs_background": "light"
          }
        }
      ]
    },
    {
      "cell_type": "markdown",
      "source": [
        "older people more easier to satisfied, and customer who take longer distance fight tend to satisfied.Besides, after remove mathmatical outlier, we find there is no obvious difference of delay time for satisfied and dissatisfied customer."
      ],
      "metadata": {
        "id": "WyX7Vy-oB1J8"
      }
    },
    {
      "cell_type": "markdown",
      "source": [
        "##relation between satisfaction and class in numeric value "
      ],
      "metadata": {
        "id": "QXr7Nf63LvpX"
      }
    },
    {
      "cell_type": "code",
      "source": [
        "figure ,axxs=plt.subplots(2,2,figsize=[8,8])#subplots 记得要加s  barplot x 轴是categorical 变量 y轴一定要是 numeric 变量\n",
        "#hue 是categorical\n",
        "\n",
        "sns.barplot(x='satisfaction',y='Age',hue='Class',data=data,ax=axxs[0][0])\n",
        "sns.barplot(x='satisfaction',y='Flight Distance',hue='Class',data=data,ax=axxs[0][1])\n",
        "sns.barplot(x='satisfaction',y='Departure Delay in Minutes',hue='Class',data=data,ax=axxs[1][0])\n",
        "sns.barplot(x='satisfaction',y='Arrival Delay in Minutes',hue='Class',data=data,ax=axxs[1][1])"
      ],
      "metadata": {
        "colab": {
          "base_uri": "https://localhost:8080/",
          "height": 514
        },
        "id": "P38eIqPaEobv",
        "outputId": "c2f21580-6c99-47fc-cff4-9c96db6b6650"
      },
      "execution_count": null,
      "outputs": [
        {
          "output_type": "execute_result",
          "data": {
            "text/plain": [
              "<matplotlib.axes._subplots.AxesSubplot at 0x7efc70f14450>"
            ]
          },
          "metadata": {},
          "execution_count": 23
        },
        {
          "output_type": "display_data",
          "data": {
            "text/plain": [
              "<Figure size 576x576 with 4 Axes>"
            ],
            "image/png": "[encoded data removed]"
          },
          "metadata": {
            "needs_background": "light"
          }
        }
      ]
    },
    {
      "cell_type": "markdown",
      "source": [
        "satisfaction seems did not dependent on calss , economy customer have young age\n",
        "\n",
        "\n",
        "more fight distance more satisfaction and business class flight more distance\n",
        "\n",
        "\n",
        "business class tend to satisfied than Eco plus customer when delay happends"
      ],
      "metadata": {
        "id": "DdPCzqA0MG_P"
      }
    },
    {
      "cell_type": "code",
      "source": [
        "figure ,axxs=plt.subplots(2,2,figsize=[15,20])\n",
        "sns.barplot(x='satisfaction',y='Age',hue='Food and drink',data=data,ax=axxs[0][0])\n",
        "sns.barplot(x='satisfaction',y='Flight Distance',hue='Food and drink',data=data,ax=axxs[0][1])\n",
        "sns.barplot(x='satisfaction',y='Departure Delay in Minutes',hue='Food and drink',data=data,ax=axxs[1][0])\n",
        "sns.barplot(x='satisfaction',y='Arrival Delay in Minutes',hue='Food and drink',data=data,ax=axxs[1][1])  "
      ],
      "metadata": {
        "colab": {
          "base_uri": "https://localhost:8080/",
          "height": 1000
        },
        "id": "kr22HuJXNPbG",
        "outputId": "844f419e-0e17-40ce-cc25-86edbac1f578"
      },
      "execution_count": null,
      "outputs": [
        {
          "output_type": "execute_result",
          "data": {
            "text/plain": [
              "<matplotlib.axes._subplots.AxesSubplot at 0x7efc70cd1850>"
            ]
          },
          "metadata": {},
          "execution_count": 24
        },
        {
          "output_type": "display_data",
          "data": {
            "text/plain": [
              "<Figure size 1080x1440 with 4 Axes>"
            ],
            "image/png": "[encoded data removed]"
          },
          "metadata": {
            "needs_background": "light"
          }
        }
      ]
    },
    {
      "cell_type": "markdown",
      "source": [
        "young age people did not satisfied by food \n",
        "\n",
        "\n",
        "long distance flight did not really satisfied by food even though they tend to satisfied by overall servcie.\n",
        "\n",
        "customer who experienced delay more than 25 minutes tend to have higher food requirement"
      ],
      "metadata": {
        "id": "2KqAPZ28OqRl"
      }
    },
    {
      "cell_type": "code",
      "source": [
        "figure ,axxs=plt.subplots(2,2,figsize=[15,20])\n",
        "sns.barplot(x='satisfaction',y='Age',hue='Cleanliness',data=data,ax=axxs[0][0])\n",
        "sns.barplot(x='satisfaction',y='Flight Distance',hue='Cleanliness',data=data,ax=axxs[0][1])\n",
        "sns.barplot(x='satisfaction',y='Departure Delay in Minutes',hue='Cleanliness',data=data,ax=axxs[1][0])\n",
        "sns.barplot(x='satisfaction',y='Arrival Delay in Minutes',hue='Cleanliness',data=data,ax=axxs[1][1])  "
      ],
      "metadata": {
        "colab": {
          "base_uri": "https://localhost:8080/",
          "height": 1000
        },
        "id": "tacKSehcQIGV",
        "outputId": "e949faa2-1bcb-4cb8-97ea-5b65458a3cf8"
      },
      "execution_count": null,
      "outputs": [
        {
          "output_type": "execute_result",
          "data": {
            "text/plain": [
              "<matplotlib.axes._subplots.AxesSubplot at 0x7fa8616e38d0>"
            ]
          },
          "metadata": {},
          "execution_count": 25
        },
        {
          "output_type": "display_data",
          "data": {
            "text/plain": [
              "<Figure size 1080x1440 with 4 Axes>"
            ],
            "image/png": "[encoded data removed]"
          },
          "metadata": {
            "needs_background": "light"
          }
        }
      ]
    },
    {
      "cell_type": "markdown",
      "source": [
        "young age tend to have higher displine for cleanliness \n",
        "\n",
        "For satisfied customer their requirement for cleanliness increase with growth of flight distance \n",
        "/On the country or not satisfied customer their requirement for cleanliness decrease with growth of flight distance "
      ],
      "metadata": {
        "id": "3JW-32igRIIK"
      }
    },
    {
      "cell_type": "markdown",
      "source": [
        "## EDA between categorical features"
      ],
      "metadata": {
        "id": "5lqHxfD-S0o3"
      }
    },
    {
      "cell_type": "code",
      "source": [
        "figure,axxs=plt.subplots(5,4,figsize=[20,15])\n",
        "sns.countplot(x='satisfaction',hue='Gender',data=data,ax=axxs[0][0])\n",
        "\n",
        "sns.countplot(x='satisfaction',hue='Customer Type',data=data,ax=axxs[0][1])\n",
        "\n",
        "sns.countplot(x='satisfaction',hue='Type of Travel',data=data,ax=axxs[0][2])\n",
        "\n",
        "sns.countplot(x='satisfaction',hue='Class',data=data,ax=axxs[0][3])\n",
        "\n",
        "\n",
        "\n",
        "sns.countplot(x='satisfaction',hue='Inflight wifi service',data=data,ax=axxs[1][0])\n",
        "\n",
        "sns.countplot(x='satisfaction',hue='Departure/Arrival time convenient',data=data,ax=axxs[1][1])\n",
        "\n",
        "sns.countplot(x='satisfaction',hue='Ease of Online booking',data=data,ax=axxs[1][2])\n",
        "\n",
        "sns.countplot(x='satisfaction',hue='Gate location',data=data,ax=axxs[1][3])\n",
        "\n",
        "\n",
        "\n",
        "sns.countplot(x='satisfaction',hue='Food and drink',data=data,ax=axxs[2][0])\n",
        "\n",
        "sns.countplot(x='satisfaction',hue='Online boarding',data=data,ax=axxs[2][1])\n",
        "\n",
        "sns.countplot(x='satisfaction',hue='Seat comfort',data=data,ax=axxs[2][2])\n",
        "\n",
        "sns.countplot(x='satisfaction',hue='Inflight entertainment',data=data,ax=axxs[2][3])\n",
        "\n",
        "\n",
        "\n",
        "\n",
        "sns.countplot(x='satisfaction',hue='On-board service',data=data,ax=axxs[3][0])\n",
        "\n",
        "sns.countplot(x='satisfaction',hue='Leg room service',data=data,ax=axxs[3][1])\n",
        "\n",
        "sns.countplot(x='satisfaction',hue='Baggage handling',data=data,ax=axxs[3][2])\n",
        "sns.countplot(x='satisfaction',hue='Checkin service',data=data,ax=axxs[3][3])\n",
        "\n",
        "\n",
        "\n",
        "\n",
        "sns.countplot(x='satisfaction',hue='Inflight service',data=data,ax=axxs[4][0])\n",
        "\n",
        "sns.countplot(x='satisfaction',hue='Cleanliness',data=data,ax=axxs[4][1])\n",
        "\n",
        "\n",
        "\n",
        "\n",
        "\n"
      ],
      "metadata": {
        "colab": {
          "base_uri": "https://localhost:8080/",
          "height": 895
        },
        "id": "khuikCT3QILb",
        "outputId": "5d3b9589-1698-412b-c6b8-38e804ed84c9"
      },
      "execution_count": 22,
      "outputs": [
        {
          "output_type": "execute_result",
          "data": {
            "text/plain": [
              "<matplotlib.axes._subplots.AxesSubplot at 0x7efebee24f50>"
            ]
          },
          "metadata": {},
          "execution_count": 22
        },
        {
          "output_type": "display_data",
          "data": {
            "text/plain": [
              "<Figure size 1440x1080 with 20 Axes>"
            ],
            "image/png": "[encoded data removed]"
          },
          "metadata": {
            "needs_background": "light"
          }
        }
      ]
    },
    {
      "cell_type": "markdown",
      "source": [
        "business travel more easy to satisfied maybe because the cost of travel is paid,by company which make them less picky\n",
        "\n",
        "\n",
        "eco and eco plus tend to not satisfied , as opposed to Buiness class\n",
        "\n",
        "\n",
        "poor inflight service may contribute a lot to dissatisfaction\n",
        "\n",
        "\n",
        "poor ease of online booking service may contribute a lot to dissatisfaction\n",
        "\n",
        "\n",
        "poor food and drike service may contribute a lot to dissatisfaction\n",
        "\n",
        "poor  online boarding service may contribute a lot to dissatisfaction\n",
        "\n",
        "poor inflight entertainment  may contribute a lot to dissatisfaction\n",
        "\n",
        "poor leg room  may contribute a lot to dissatisfaction\n",
        "\n",
        "poor baggage handling  service may contribute a lot to dissatisfaction\n",
        "\n",
        "poor cleanliness may contribute a lot to dissatisfaction"
      ],
      "metadata": {
        "id": "6MW4dTnpdJY5"
      }
    },
    {
      "cell_type": "markdown",
      "source": [
        "#fill NA value"
      ],
      "metadata": {
        "id": "jldWGyLqdvhm"
      }
    },
    {
      "cell_type": "code",
      "source": [
        "data.info()"
      ],
      "metadata": {
        "colab": {
          "base_uri": "https://localhost:8080/"
        },
        "id": "AyF-8USdpuCs",
        "outputId": "531536fc-3696-4c7e-cd33-a2a5403444c8"
      },
      "execution_count": 23,
      "outputs": [
        {
          "output_type": "stream",
          "name": "stdout",
          "text": [
            "<class 'pandas.core.frame.DataFrame'>\n",
            "RangeIndex: 103904 entries, 0 to 103903\n",
            "Data columns (total 23 columns):\n",
            " #   Column                             Non-Null Count   Dtype   \n",
            "---  ------                             --------------   -----   \n",
            " 0   Gender                             103904 non-null  category\n",
            " 1   Customer Type                      103904 non-null  category\n",
            " 2   Age                                103904 non-null  int64   \n",
            " 3   Type of Travel                     103904 non-null  category\n",
            " 4   Class                              103904 non-null  category\n",
            " 5   Flight Distance                    103904 non-null  int64   \n",
            " 6   Inflight wifi service              103904 non-null  category\n",
            " 7   Departure/Arrival time convenient  103904 non-null  category\n",
            " 8   Ease of Online booking             103904 non-null  category\n",
            " 9   Gate location                      103904 non-null  category\n",
            " 10  Food and drink                     103904 non-null  category\n",
            " 11  Online boarding                    103904 non-null  category\n",
            " 12  Seat comfort                       103904 non-null  category\n",
            " 13  Inflight entertainment             103904 non-null  category\n",
            " 14  On-board service                   103904 non-null  category\n",
            " 15  Leg room service                   103904 non-null  category\n",
            " 16  Baggage handling                   103904 non-null  category\n",
            " 17  Checkin service                    103904 non-null  category\n",
            " 18  Inflight service                   103904 non-null  category\n",
            " 19  Cleanliness                        103904 non-null  category\n",
            " 20  Departure Delay in Minutes         103904 non-null  int64   \n",
            " 21  Arrival Delay in Minutes           103594 non-null  float64 \n",
            " 22  satisfaction                       103904 non-null  object  \n",
            "dtypes: category(18), float64(1), int64(3), object(1)\n",
            "memory usage: 5.8+ MB\n"
          ]
        }
      ]
    },
    {
      "cell_type": "code",
      "source": [
        "\n",
        "data['Arrival Delay in Minutes']=data['Arrival Delay in Minutes'].fillna(data['Arrival Delay in Minutes'].median)"
      ],
      "metadata": {
        "id": "ryvmMSR2QIQM"
      },
      "execution_count": 24,
      "outputs": []
    },
    {
      "cell_type": "code",
      "source": [
        "data.isnull().sum()"
      ],
      "metadata": {
        "colab": {
          "base_uri": "https://localhost:8080/"
        },
        "id": "TweE-uovQIS5",
        "outputId": "3240c6f4-3709-4cac-fe5d-83b25792d353"
      },
      "execution_count": 25,
      "outputs": [
        {
          "output_type": "execute_result",
          "data": {
            "text/plain": [
              "Gender                               0\n",
              "Customer Type                        0\n",
              "Age                                  0\n",
              "Type of Travel                       0\n",
              "Class                                0\n",
              "Flight Distance                      0\n",
              "Inflight wifi service                0\n",
              "Departure/Arrival time convenient    0\n",
              "Ease of Online booking               0\n",
              "Gate location                        0\n",
              "Food and drink                       0\n",
              "Online boarding                      0\n",
              "Seat comfort                         0\n",
              "Inflight entertainment               0\n",
              "On-board service                     0\n",
              "Leg room service                     0\n",
              "Baggage handling                     0\n",
              "Checkin service                      0\n",
              "Inflight service                     0\n",
              "Cleanliness                          0\n",
              "Departure Delay in Minutes           0\n",
              "Arrival Delay in Minutes             0\n",
              "satisfaction                         0\n",
              "dtype: int64"
            ]
          },
          "metadata": {},
          "execution_count": 25
        }
      ]
    },
    {
      "cell_type": "markdown",
      "source": [
        "# data preprocessing"
      ],
      "metadata": {
        "id": "2lZ4Lh4le-iZ"
      }
    },
    {
      "cell_type": "code",
      "source": [
        "from sklearn.model_selection import train_test_split\n",
        "from sklearn.preprocessing import LabelEncoder\n",
        "from sklearn.preprocessing import OneHotEncoder"
      ],
      "metadata": {
        "id": "VyUricYVrdwG"
      },
      "execution_count": 26,
      "outputs": []
    },
    {
      "cell_type": "code",
      "source": [
        "data.drop(columns=['Arrival Delay in Minutes'],axis=1,inplace=True)"
      ],
      "metadata": {
        "id": "_zdwEUGkxh8u"
      },
      "execution_count": 27,
      "outputs": []
    },
    {
      "cell_type": "code",
      "source": [
        "data.columns"
      ],
      "metadata": {
        "colab": {
          "base_uri": "https://localhost:8080/"
        },
        "id": "oDp1yovsxmqc",
        "outputId": "bee8d70f-3337-4d76-c15b-1552dbdfbf4b"
      },
      "execution_count": 28,
      "outputs": [
        {
          "output_type": "execute_result",
          "data": {
            "text/plain": [
              "Index(['Gender', 'Customer Type', 'Age', 'Type of Travel', 'Class',\n",
              "       'Flight Distance', 'Inflight wifi service',\n",
              "       'Departure/Arrival time convenient', 'Ease of Online booking',\n",
              "       'Gate location', 'Food and drink', 'Online boarding', 'Seat comfort',\n",
              "       'Inflight entertainment', 'On-board service', 'Leg room service',\n",
              "       'Baggage handling', 'Checkin service', 'Inflight service',\n",
              "       'Cleanliness', 'Departure Delay in Minutes', 'satisfaction'],\n",
              "      dtype='object')"
            ]
          },
          "metadata": {},
          "execution_count": 28
        }
      ]
    },
    {
      "cell_type": "code",
      "source": [
        "Y=data['satisfaction']\n",
        "X=data.drop(['satisfaction'],axis=1)"
      ],
      "metadata": {
        "id": "yCDrP5JhxmtJ"
      },
      "execution_count": 58,
      "outputs": []
    },
    {
      "cell_type": "code",
      "source": [
        "le=LabelEncoder()\n",
        "\n",
        "Y=le.fit_transform(Y)"
      ],
      "metadata": {
        "id": "f81-A_iz7fGm"
      },
      "execution_count": 59,
      "outputs": []
    },
    {
      "cell_type": "code",
      "source": [
        "cat_cols = X.columns[X.dtypes == 'category']\n",
        "num_cols=X.columns[X.dtypes=='int64']"
      ],
      "metadata": {
        "id": "6PTEhMHExmvQ"
      },
      "execution_count": 60,
      "outputs": []
    },
    {
      "cell_type": "code",
      "source": [
        "len(cat_cols)\n",
        "len(num_cols)"
      ],
      "metadata": {
        "colab": {
          "base_uri": "https://localhost:8080/"
        },
        "id": "YhuqLC8Hxmx3",
        "outputId": "6b8f2549-b17a-4996-a25b-08117f7f5405"
      },
      "execution_count": 61,
      "outputs": [
        {
          "output_type": "execute_result",
          "data": {
            "text/plain": [
              "3"
            ]
          },
          "metadata": {},
          "execution_count": 61
        }
      ]
    },
    {
      "cell_type": "code",
      "source": [
        "X_train,X_test,y_train,y_test=train_test_split(X,Y,test_size=0.2,random_state=48)\n"
      ],
      "metadata": {
        "id": "SoDqrpOC06zB"
      },
      "execution_count": 62,
      "outputs": []
    },
    {
      "cell_type": "code",
      "source": [
        "X_train[cat_cols]"
      ],
      "metadata": {
        "colab": {
          "base_uri": "https://localhost:8080/",
          "height": 676
        },
        "id": "x4fnv_CwTUT-",
        "outputId": "511aa5e9-4e42-4eff-82da-695c41751e13"
      },
      "execution_count": 63,
      "outputs": [
        {
          "output_type": "execute_result",
          "data": {
            "text/plain": [
              "       Gender      Customer Type   Type of Travel     Class  \\\n",
              "86633  Female     Loyal Customer  Personal Travel       Eco   \n",
              "55226    Male     Loyal Customer  Business travel  Business   \n",
              "13881  Female     Loyal Customer  Personal Travel  Eco Plus   \n",
              "98209  Female     Loyal Customer  Personal Travel       Eco   \n",
              "67547    Male     Loyal Customer  Personal Travel  Eco Plus   \n",
              "...       ...                ...              ...       ...   \n",
              "43355  Female     Loyal Customer  Business travel  Business   \n",
              "95684    Male     Loyal Customer  Business travel  Business   \n",
              "9553     Male  disloyal Customer  Business travel  Business   \n",
              "2611     Male     Loyal Customer  Personal Travel       Eco   \n",
              "15872    Male     Loyal Customer  Business travel  Business   \n",
              "\n",
              "      Inflight wifi service Departure/Arrival time convenient  \\\n",
              "86633                     3                                 3   \n",
              "55226                     1                                 1   \n",
              "13881                     1                                 5   \n",
              "98209                     4                                 3   \n",
              "67547                     4                                 5   \n",
              "...                     ...                               ...   \n",
              "43355                     5                                 5   \n",
              "95684                     1                                 2   \n",
              "9553                      2                                 2   \n",
              "2611                      1                                 4   \n",
              "15872                     5                                 5   \n",
              "\n",
              "      Ease of Online booking Gate location Food and drink Online boarding  \\\n",
              "86633                      3             2              3               3   \n",
              "55226                      1             1              3               5   \n",
              "13881                      1             4              3               1   \n",
              "98209                      4             3              3               3   \n",
              "67547                      4             3              5               4   \n",
              "...                      ...           ...            ...             ...   \n",
              "43355                      5             5              2               4   \n",
              "95684                      2             2              5               3   \n",
              "9553                       2             5              3               2   \n",
              "2611                       1             2              2               1   \n",
              "15872                      2             5              4               4   \n",
              "\n",
              "      Seat comfort Inflight entertainment On-board service Leg room service  \\\n",
              "86633            4                      2                2                3   \n",
              "55226            4                      5                5                5   \n",
              "13881            3                      3                4                4   \n",
              "98209            4                      2                2                4   \n",
              "67547            5                      5                5                5   \n",
              "...            ...                    ...              ...              ...   \n",
              "43355            5                      4                4                4   \n",
              "95684            3                      1                1                1   \n",
              "9553             3                      3                3                3   \n",
              "2611             2                      2                5                5   \n",
              "15872            4                      5                5                5   \n",
              "\n",
              "      Baggage handling Checkin service Inflight service Cleanliness  \n",
              "86633                2               2                2           5  \n",
              "55226                5               4                5           3  \n",
              "13881                5               3                4           3  \n",
              "98209                2               4                2           1  \n",
              "67547                4               5                5           5  \n",
              "...                ...             ...              ...         ...  \n",
              "43355                4               5                4           3  \n",
              "95684                1               3                1           2  \n",
              "9553                 4               5                4           3  \n",
              "2611                 5               5                5           2  \n",
              "15872                5               5                5           4  \n",
              "\n",
              "[83123 rows x 18 columns]"
            ],
            "text/html": [
              "\n",
              "  <div id=\"df-1207440c-93b6-46ec-abc7-2a9f84639a12\">\n",
              "    <div class=\"colab-df-container\">\n",
              "      <div>\n",
              "<style scoped>\n",
              "    .dataframe tbody tr th:only-of-type {\n",
              "        vertical-align: middle;\n",
              "    }\n",
              "\n",
              "    .dataframe tbody tr th {\n",
              "        vertical-align: top;\n",
              "    }\n",
              "\n",
              "    .dataframe thead th {\n",
              "        text-align: right;\n",
              "    }\n",
              "</style>\n",
              "<table border=\"1\" class=\"dataframe\">\n",
              "  <thead>\n",
              "    <tr style=\"text-align: right;\">\n",
              "      <th></th>\n",
              "      <th>Gender</th>\n",
              "      <th>Customer Type</th>\n",
              "      <th>Type of Travel</th>\n",
              "      <th>Class</th>\n",
              "      <th>Inflight wifi service</th>\n",
              "      <th>Departure/Arrival time convenient</th>\n",
              "      <th>Ease of Online booking</th>\n",
              "      <th>Gate location</th>\n",
              "      <th>Food and drink</th>\n",
              "      <th>Online boarding</th>\n",
              "      <th>Seat comfort</th>\n",
              "      <th>Inflight entertainment</th>\n",
              "      <th>On-board service</th>\n",
              "      <th>Leg room service</th>\n",
              "      <th>Baggage handling</th>\n",
              "      <th>Checkin service</th>\n",
              "      <th>Inflight service</th>\n",
              "      <th>Cleanliness</th>\n",
              "    </tr>\n",
              "  </thead>\n",
              "  <tbody>\n",
              "    <tr>\n",
              "      <th>86633</th>\n",
              "      <td>Female</td>\n",
              "      <td>Loyal Customer</td>\n",
              "      <td>Personal Travel</td>\n",
              "      <td>Eco</td>\n",
              "      <td>3</td>\n",
              "      <td>3</td>\n",
              "      <td>3</td>\n",
              "      <td>2</td>\n",
              "      <td>3</td>\n",
              "      <td>3</td>\n",
              "      <td>4</td>\n",
              "      <td>2</td>\n",
              "      <td>2</td>\n",
              "      <td>3</td>\n",
              "      <td>2</td>\n",
              "      <td>2</td>\n",
              "      <td>2</td>\n",
              "      <td>5</td>\n",
              "    </tr>\n",
              "    <tr>\n",
              "      <th>55226</th>\n",
              "      <td>Male</td>\n",
              "      <td>Loyal Customer</td>\n",
              "      <td>Business travel</td>\n",
              "      <td>Business</td>\n",
              "      <td>1</td>\n",
              "      <td>1</td>\n",
              "      <td>1</td>\n",
              "      <td>1</td>\n",
              "      <td>3</td>\n",
              "      <td>5</td>\n",
              "      <td>4</td>\n",
              "      <td>5</td>\n",
              "      <td>5</td>\n",
              "      <td>5</td>\n",
              "      <td>5</td>\n",
              "      <td>4</td>\n",
              "      <td>5</td>\n",
              "      <td>3</td>\n",
              "    </tr>\n",
              "    <tr>\n",
              "      <th>13881</th>\n",
              "      <td>Female</td>\n",
              "      <td>Loyal Customer</td>\n",
              "      <td>Personal Travel</td>\n",
              "      <td>Eco Plus</td>\n",
              "      <td>1</td>\n",
              "      <td>5</td>\n",
              "      <td>1</td>\n",
              "      <td>4</td>\n",
              "      <td>3</td>\n",
              "      <td>1</td>\n",
              "      <td>3</td>\n",
              "      <td>3</td>\n",
              "      <td>4</td>\n",
              "      <td>4</td>\n",
              "      <td>5</td>\n",
              "      <td>3</td>\n",
              "      <td>4</td>\n",
              "      <td>3</td>\n",
              "    </tr>\n",
              "    <tr>\n",
              "      <th>98209</th>\n",
              "      <td>Female</td>\n",
              "      <td>Loyal Customer</td>\n",
              "      <td>Personal Travel</td>\n",
              "      <td>Eco</td>\n",
              "      <td>4</td>\n",
              "      <td>3</td>\n",
              "      <td>4</td>\n",
              "      <td>3</td>\n",
              "      <td>3</td>\n",
              "      <td>3</td>\n",
              "      <td>4</td>\n",
              "      <td>2</td>\n",
              "      <td>2</td>\n",
              "      <td>4</td>\n",
              "      <td>2</td>\n",
              "      <td>4</td>\n",
              "      <td>2</td>\n",
              "      <td>1</td>\n",
              "    </tr>\n",
              "    <tr>\n",
              "      <th>67547</th>\n",
              "      <td>Male</td>\n",
              "      <td>Loyal Customer</td>\n",
              "      <td>Personal Travel</td>\n",
              "      <td>Eco Plus</td>\n",
              "      <td>4</td>\n",
              "      <td>5</td>\n",
              "      <td>4</td>\n",
              "      <td>3</td>\n",
              "      <td>5</td>\n",
              "      <td>4</td>\n",
              "      <td>5</td>\n",
              "      <td>5</td>\n",
              "      <td>5</td>\n",
              "      <td>5</td>\n",
              "      <td>4</td>\n",
              "      <td>5</td>\n",
              "      <td>5</td>\n",
              "      <td>5</td>\n",
              "    </tr>\n",
              "    <tr>\n",
              "      <th>...</th>\n",
              "      <td>...</td>\n",
              "      <td>...</td>\n",
              "      <td>...</td>\n",
              "      <td>...</td>\n",
              "      <td>...</td>\n",
              "      <td>...</td>\n",
              "      <td>...</td>\n",
              "      <td>...</td>\n",
              "      <td>...</td>\n",
              "      <td>...</td>\n",
              "      <td>...</td>\n",
              "      <td>...</td>\n",
              "      <td>...</td>\n",
              "      <td>...</td>\n",
              "      <td>...</td>\n",
              "      <td>...</td>\n",
              "      <td>...</td>\n",
              "      <td>...</td>\n",
              "    </tr>\n",
              "    <tr>\n",
              "      <th>43355</th>\n",
              "      <td>Female</td>\n",
              "      <td>Loyal Customer</td>\n",
              "      <td>Business travel</td>\n",
              "      <td>Business</td>\n",
              "      <td>5</td>\n",
              "      <td>5</td>\n",
              "      <td>5</td>\n",
              "      <td>5</td>\n",
              "      <td>2</td>\n",
              "      <td>4</td>\n",
              "      <td>5</td>\n",
              "      <td>4</td>\n",
              "      <td>4</td>\n",
              "      <td>4</td>\n",
              "      <td>4</td>\n",
              "      <td>5</td>\n",
              "      <td>4</td>\n",
              "      <td>3</td>\n",
              "    </tr>\n",
              "    <tr>\n",
              "      <th>95684</th>\n",
              "      <td>Male</td>\n",
              "      <td>Loyal Customer</td>\n",
              "      <td>Business travel</td>\n",
              "      <td>Business</td>\n",
              "      <td>1</td>\n",
              "      <td>2</td>\n",
              "      <td>2</td>\n",
              "      <td>2</td>\n",
              "      <td>5</td>\n",
              "      <td>3</td>\n",
              "      <td>3</td>\n",
              "      <td>1</td>\n",
              "      <td>1</td>\n",
              "      <td>1</td>\n",
              "      <td>1</td>\n",
              "      <td>3</td>\n",
              "      <td>1</td>\n",
              "      <td>2</td>\n",
              "    </tr>\n",
              "    <tr>\n",
              "      <th>9553</th>\n",
              "      <td>Male</td>\n",
              "      <td>disloyal Customer</td>\n",
              "      <td>Business travel</td>\n",
              "      <td>Business</td>\n",
              "      <td>2</td>\n",
              "      <td>2</td>\n",
              "      <td>2</td>\n",
              "      <td>5</td>\n",
              "      <td>3</td>\n",
              "      <td>2</td>\n",
              "      <td>3</td>\n",
              "      <td>3</td>\n",
              "      <td>3</td>\n",
              "      <td>3</td>\n",
              "      <td>4</td>\n",
              "      <td>5</td>\n",
              "      <td>4</td>\n",
              "      <td>3</td>\n",
              "    </tr>\n",
              "    <tr>\n",
              "      <th>2611</th>\n",
              "      <td>Male</td>\n",
              "      <td>Loyal Customer</td>\n",
              "      <td>Personal Travel</td>\n",
              "      <td>Eco</td>\n",
              "      <td>1</td>\n",
              "      <td>4</td>\n",
              "      <td>1</td>\n",
              "      <td>2</td>\n",
              "      <td>2</td>\n",
              "      <td>1</td>\n",
              "      <td>2</td>\n",
              "      <td>2</td>\n",
              "      <td>5</td>\n",
              "      <td>5</td>\n",
              "      <td>5</td>\n",
              "      <td>5</td>\n",
              "      <td>5</td>\n",
              "      <td>2</td>\n",
              "    </tr>\n",
              "    <tr>\n",
              "      <th>15872</th>\n",
              "      <td>Male</td>\n",
              "      <td>Loyal Customer</td>\n",
              "      <td>Business travel</td>\n",
              "      <td>Business</td>\n",
              "      <td>5</td>\n",
              "      <td>5</td>\n",
              "      <td>2</td>\n",
              "      <td>5</td>\n",
              "      <td>4</td>\n",
              "      <td>4</td>\n",
              "      <td>4</td>\n",
              "      <td>5</td>\n",
              "      <td>5</td>\n",
              "      <td>5</td>\n",
              "      <td>5</td>\n",
              "      <td>5</td>\n",
              "      <td>5</td>\n",
              "      <td>4</td>\n",
              "    </tr>\n",
              "  </tbody>\n",
              "</table>\n",
              "<p>83123 rows × 18 columns</p>\n",
              "</div>\n",
              "      <button class=\"colab-df-convert\" onclick=\"convertToInteractive('df-1207440c-93b6-46ec-abc7-2a9f84639a12')\"\n",
              "              title=\"Convert this dataframe to an interactive table.\"\n",
              "              style=\"display:none;\">\n",
              "        \n",
              "  <svg xmlns=\"http://www.w3.org/2000/svg\" height=\"24px\"viewBox=\"0 0 24 24\"\n",
              "       width=\"24px\">\n",
              "    <path d=\"M0 0h24v24H0V0z\" fill=\"none\"/>\n",
              "    <path d=\"M18.56 5.44l.94 2.06.94-2.06 2.06-.94-2.06-.94-.94-2.06-.94 2.06-2.06.94zm-11 1L8.5 8.5l.94-2.06 2.06-.94-2.06-.94L8.5 2.5l-.94 2.06-2.06.94zm10 10l.94 2.06.94-2.06 2.06-.94-2.06-.94-.94-2.06-.94 2.06-2.06.94z\"/><path d=\"M17.41 7.96l-1.37-1.37c-.4-.4-.92-.59-1.43-.59-.52 0-1.04.2-1.43.59L10.3 9.45l-7.72 7.72c-.78.78-.78 2.05 0 2.83L4 21.41c.39.39.9.59 1.41.59.51 0 1.02-.2 1.41-.59l7.78-7.78 2.81-2.81c.8-.78.8-2.07 0-2.86zM5.41 20L4 18.59l7.72-7.72 1.47 1.35L5.41 20z\"/>\n",
              "  </svg>\n",
              "      </button>\n",
              "      \n",
              "  <style>\n",
              "    .colab-df-container {\n",
              "      display:flex;\n",
              "      flex-wrap:wrap;\n",
              "      gap: 12px;\n",
              "    }\n",
              "\n",
              "    .colab-df-convert {\n",
              "      background-color: #E8F0FE;\n",
              "      border: none;\n",
              "      border-radius: 50%;\n",
              "      cursor: pointer;\n",
              "      display: none;\n",
              "      fill: #1967D2;\n",
              "      height: 32px;\n",
              "      padding: 0 0 0 0;\n",
              "      width: 32px;\n",
              "    }\n",
              "\n",
              "    .colab-df-convert:hover {\n",
              "      background-color: #E2EBFA;\n",
              "      box-shadow: 0px 1px 2px rgba(60, 64, 67, 0.3), 0px 1px 3px 1px rgba(60, 64, 67, 0.15);\n",
              "      fill: #174EA6;\n",
              "    }\n",
              "\n",
              "    [theme=dark] .colab-df-convert {\n",
              "      background-color: #3B4455;\n",
              "      fill: #D2E3FC;\n",
              "    }\n",
              "\n",
              "    [theme=dark] .colab-df-convert:hover {\n",
              "      background-color: #434B5C;\n",
              "      box-shadow: 0px 1px 3px 1px rgba(0, 0, 0, 0.15);\n",
              "      filter: drop-shadow(0px 1px 2px rgba(0, 0, 0, 0.3));\n",
              "      fill: #FFFFFF;\n",
              "    }\n",
              "  </style>\n",
              "\n",
              "      <script>\n",
              "        const buttonEl =\n",
              "          document.querySelector('#df-1207440c-93b6-46ec-abc7-2a9f84639a12 button.colab-df-convert');\n",
              "        buttonEl.style.display =\n",
              "          google.colab.kernel.accessAllowed ? 'block' : 'none';\n",
              "\n",
              "        async function convertToInteractive(key) {\n",
              "          const element = document.querySelector('#df-1207440c-93b6-46ec-abc7-2a9f84639a12');\n",
              "          const dataTable =\n",
              "            await google.colab.kernel.invokeFunction('convertToInteractive',\n",
              "                                                     [key], {});\n",
              "          if (!dataTable) return;\n",
              "\n",
              "          const docLinkHtml = 'Like what you see? Visit the ' +\n",
              "            '<a target=\"_blank\" href=https://colab.research.google.com/notebooks/data_table.ipynb>data table notebook</a>'\n",
              "            + ' to learn more about interactive tables.';\n",
              "          element.innerHTML = '';\n",
              "          dataTable['output_type'] = 'display_data';\n",
              "          await google.colab.output.renderOutput(dataTable, element);\n",
              "          const docLink = document.createElement('div');\n",
              "          docLink.innerHTML = docLinkHtml;\n",
              "          element.appendChild(docLink);\n",
              "        }\n",
              "      </script>\n",
              "    </div>\n",
              "  </div>\n",
              "  "
            ]
          },
          "metadata": {},
          "execution_count": 63
        }
      ]
    },
    {
      "cell_type": "markdown",
      "source": [
        "##categorical data encoding"
      ],
      "metadata": {
        "id": "2mHFyxuK0QV6"
      }
    },
    {
      "cell_type": "code",
      "source": [
        "X_train=pd.get_dummies(X_train,columns=cat_cols)\n",
        "X_test=pd.get_dummies(X_test,columns=cat_cols)"
      ],
      "metadata": {
        "id": "wiAo0e-TIwit"
      },
      "execution_count": 64,
      "outputs": []
    },
    {
      "cell_type": "code",
      "source": [
        "X_test"
      ],
      "metadata": {
        "colab": {
          "base_uri": "https://localhost:8080/",
          "height": 522
        },
        "id": "jszUlUG0K-Vg",
        "outputId": "7edcb94f-f936-43e7-e524-5e74124d498b"
      },
      "execution_count": 65,
      "outputs": [
        {
          "output_type": "execute_result",
          "data": {
            "text/plain": [
              "       Age  Flight Distance  Departure Delay in Minutes  Gender_Female  \\\n",
              "58937   60              853                          11              1   \n",
              "49461   11             2176                          37              0   \n",
              "32813   34             1518                           0              0   \n",
              "63790   27              569                           0              1   \n",
              "74385   54              696                           0              0   \n",
              "...    ...              ...                         ...            ...   \n",
              "2223    62              612                           0              1   \n",
              "25377   43             1024                           9              0   \n",
              "20495   38              363                           0              1   \n",
              "17339   40              677                          21              1   \n",
              "56925   43             3132                           9              0   \n",
              "\n",
              "       Gender_Male  Customer Type_Loyal Customer  \\\n",
              "58937            0                             1   \n",
              "49461            1                             1   \n",
              "32813            1                             1   \n",
              "63790            0                             0   \n",
              "74385            1                             1   \n",
              "...            ...                           ...   \n",
              "2223             0                             1   \n",
              "25377            1                             1   \n",
              "20495            0                             0   \n",
              "17339            0                             0   \n",
              "56925            1                             1   \n",
              "\n",
              "       Customer Type_disloyal Customer  Type of Travel_Business travel  \\\n",
              "58937                                0                               0   \n",
              "49461                                0                               0   \n",
              "32813                                0                               1   \n",
              "63790                                1                               1   \n",
              "74385                                0                               0   \n",
              "...                                ...                             ...   \n",
              "2223                                 0                               0   \n",
              "25377                                0                               1   \n",
              "20495                                1                               1   \n",
              "17339                                1                               1   \n",
              "56925                                0                               1   \n",
              "\n",
              "       Type of Travel_Personal Travel  Class_Business  ...  \\\n",
              "58937                               1               0  ...   \n",
              "49461                               1               0  ...   \n",
              "32813                               0               1  ...   \n",
              "63790                               0               1  ...   \n",
              "74385                               1               0  ...   \n",
              "...                               ...             ...  ...   \n",
              "2223                                1               0  ...   \n",
              "25377                               0               1  ...   \n",
              "20495                               0               0  ...   \n",
              "17339                               0               1  ...   \n",
              "56925                               0               1  ...   \n",
              "\n",
              "       Inflight service_2  Inflight service_3  Inflight service_4  \\\n",
              "58937                   0                   1                   0   \n",
              "49461                   0                   0                   0   \n",
              "32813                   0                   0                   1   \n",
              "63790                   0                   0                   1   \n",
              "74385                   0                   0                   0   \n",
              "...                   ...                 ...                 ...   \n",
              "2223                    0                   0                   1   \n",
              "25377                   1                   0                   0   \n",
              "20495                   0                   1                   0   \n",
              "17339                   0                   0                   1   \n",
              "56925                   0                   0                   0   \n",
              "\n",
              "       Inflight service_5  Cleanliness_0  Cleanliness_1  Cleanliness_2  \\\n",
              "58937                   0              0              0              0   \n",
              "49461                   1              0              0              0   \n",
              "32813                   0              0              0              0   \n",
              "63790                   0              0              1              0   \n",
              "74385                   1              0              0              0   \n",
              "...                   ...            ...            ...            ...   \n",
              "2223                    0              0              0              0   \n",
              "25377                   0              0              0              0   \n",
              "20495                   0              0              0              0   \n",
              "17339                   0              0              0              0   \n",
              "56925                   1              0              0              0   \n",
              "\n",
              "       Cleanliness_3  Cleanliness_4  Cleanliness_5  \n",
              "58937              1              0              0  \n",
              "49461              1              0              0  \n",
              "32813              1              0              0  \n",
              "63790              0              0              0  \n",
              "74385              0              0              1  \n",
              "...              ...            ...            ...  \n",
              "2223               0              1              0  \n",
              "25377              1              0              0  \n",
              "20495              0              1              0  \n",
              "17339              0              1              0  \n",
              "56925              1              0              0  \n",
              "\n",
              "[20781 rows x 95 columns]"
            ],
            "text/html": [
              "\n",
              "  <div id=\"df-3ae4cd68-82c6-41fa-99fd-2a556b3c8bbe\">\n",
              "    <div class=\"colab-df-container\">\n",
              "      <div>\n",
              "<style scoped>\n",
              "    .dataframe tbody tr th:only-of-type {\n",
              "        vertical-align: middle;\n",
              "    }\n",
              "\n",
              "    .dataframe tbody tr th {\n",
              "        vertical-align: top;\n",
              "    }\n",
              "\n",
              "    .dataframe thead th {\n",
              "        text-align: right;\n",
              "    }\n",
              "</style>\n",
              "<table border=\"1\" class=\"dataframe\">\n",
              "  <thead>\n",
              "    <tr style=\"text-align: right;\">\n",
              "      <th></th>\n",
              "      <th>Age</th>\n",
              "      <th>Flight Distance</th>\n",
              "      <th>Departure Delay in Minutes</th>\n",
              "      <th>Gender_Female</th>\n",
              "      <th>Gender_Male</th>\n",
              "      <th>Customer Type_Loyal Customer</th>\n",
              "      <th>Customer Type_disloyal Customer</th>\n",
              "      <th>Type of Travel_Business travel</th>\n",
              "      <th>Type of Travel_Personal Travel</th>\n",
              "      <th>Class_Business</th>\n",
              "      <th>...</th>\n",
              "      <th>Inflight service_2</th>\n",
              "      <th>Inflight service_3</th>\n",
              "      <th>Inflight service_4</th>\n",
              "      <th>Inflight service_5</th>\n",
              "      <th>Cleanliness_0</th>\n",
              "      <th>Cleanliness_1</th>\n",
              "      <th>Cleanliness_2</th>\n",
              "      <th>Cleanliness_3</th>\n",
              "      <th>Cleanliness_4</th>\n",
              "      <th>Cleanliness_5</th>\n",
              "    </tr>\n",
              "  </thead>\n",
              "  <tbody>\n",
              "    <tr>\n",
              "      <th>58937</th>\n",
              "      <td>60</td>\n",
              "      <td>853</td>\n",
              "      <td>11</td>\n",
              "      <td>1</td>\n",
              "      <td>0</td>\n",
              "      <td>1</td>\n",
              "      <td>0</td>\n",
              "      <td>0</td>\n",
              "      <td>1</td>\n",
              "      <td>0</td>\n",
              "      <td>...</td>\n",
              "      <td>0</td>\n",
              "      <td>1</td>\n",
              "      <td>0</td>\n",
              "      <td>0</td>\n",
              "      <td>0</td>\n",
              "      <td>0</td>\n",
              "      <td>0</td>\n",
              "      <td>1</td>\n",
              "      <td>0</td>\n",
              "      <td>0</td>\n",
              "    </tr>\n",
              "    <tr>\n",
              "      <th>49461</th>\n",
              "      <td>11</td>\n",
              "      <td>2176</td>\n",
              "      <td>37</td>\n",
              "      <td>0</td>\n",
              "      <td>1</td>\n",
              "      <td>1</td>\n",
              "      <td>0</td>\n",
              "      <td>0</td>\n",
              "      <td>1</td>\n",
              "      <td>0</td>\n",
              "      <td>...</td>\n",
              "      <td>0</td>\n",
              "      <td>0</td>\n",
              "      <td>0</td>\n",
              "      <td>1</td>\n",
              "      <td>0</td>\n",
              "      <td>0</td>\n",
              "      <td>0</td>\n",
              "      <td>1</td>\n",
              "      <td>0</td>\n",
              "      <td>0</td>\n",
              "    </tr>\n",
              "    <tr>\n",
              "      <th>32813</th>\n",
              "      <td>34</td>\n",
              "      <td>1518</td>\n",
              "      <td>0</td>\n",
              "      <td>0</td>\n",
              "      <td>1</td>\n",
              "      <td>1</td>\n",
              "      <td>0</td>\n",
              "      <td>1</td>\n",
              "      <td>0</td>\n",
              "      <td>1</td>\n",
              "      <td>...</td>\n",
              "      <td>0</td>\n",
              "      <td>0</td>\n",
              "      <td>1</td>\n",
              "      <td>0</td>\n",
              "      <td>0</td>\n",
              "      <td>0</td>\n",
              "      <td>0</td>\n",
              "      <td>1</td>\n",
              "      <td>0</td>\n",
              "      <td>0</td>\n",
              "    </tr>\n",
              "    <tr>\n",
              "      <th>63790</th>\n",
              "      <td>27</td>\n",
              "      <td>569</td>\n",
              "      <td>0</td>\n",
              "      <td>1</td>\n",
              "      <td>0</td>\n",
              "      <td>0</td>\n",
              "      <td>1</td>\n",
              "      <td>1</td>\n",
              "      <td>0</td>\n",
              "      <td>1</td>\n",
              "      <td>...</td>\n",
              "      <td>0</td>\n",
              "      <td>0</td>\n",
              "      <td>1</td>\n",
              "      <td>0</td>\n",
              "      <td>0</td>\n",
              "      <td>1</td>\n",
              "      <td>0</td>\n",
              "      <td>0</td>\n",
              "      <td>0</td>\n",
              "      <td>0</td>\n",
              "    </tr>\n",
              "    <tr>\n",
              "      <th>74385</th>\n",
              "      <td>54</td>\n",
              "      <td>696</td>\n",
              "      <td>0</td>\n",
              "      <td>0</td>\n",
              "      <td>1</td>\n",
              "      <td>1</td>\n",
              "      <td>0</td>\n",
              "      <td>0</td>\n",
              "      <td>1</td>\n",
              "      <td>0</td>\n",
              "      <td>...</td>\n",
              "      <td>0</td>\n",
              "      <td>0</td>\n",
              "      <td>0</td>\n",
              "      <td>1</td>\n",
              "      <td>0</td>\n",
              "      <td>0</td>\n",
              "      <td>0</td>\n",
              "      <td>0</td>\n",
              "      <td>0</td>\n",
              "      <td>1</td>\n",
              "    </tr>\n",
              "    <tr>\n",
              "      <th>...</th>\n",
              "      <td>...</td>\n",
              "      <td>...</td>\n",
              "      <td>...</td>\n",
              "      <td>...</td>\n",
              "      <td>...</td>\n",
              "      <td>...</td>\n",
              "      <td>...</td>\n",
              "      <td>...</td>\n",
              "      <td>...</td>\n",
              "      <td>...</td>\n",
              "      <td>...</td>\n",
              "      <td>...</td>\n",
              "      <td>...</td>\n",
              "      <td>...</td>\n",
              "      <td>...</td>\n",
              "      <td>...</td>\n",
              "      <td>...</td>\n",
              "      <td>...</td>\n",
              "      <td>...</td>\n",
              "      <td>...</td>\n",
              "      <td>...</td>\n",
              "    </tr>\n",
              "    <tr>\n",
              "      <th>2223</th>\n",
              "      <td>62</td>\n",
              "      <td>612</td>\n",
              "      <td>0</td>\n",
              "      <td>1</td>\n",
              "      <td>0</td>\n",
              "      <td>1</td>\n",
              "      <td>0</td>\n",
              "      <td>0</td>\n",
              "      <td>1</td>\n",
              "      <td>0</td>\n",
              "      <td>...</td>\n",
              "      <td>0</td>\n",
              "      <td>0</td>\n",
              "      <td>1</td>\n",
              "      <td>0</td>\n",
              "      <td>0</td>\n",
              "      <td>0</td>\n",
              "      <td>0</td>\n",
              "      <td>0</td>\n",
              "      <td>1</td>\n",
              "      <td>0</td>\n",
              "    </tr>\n",
              "    <tr>\n",
              "      <th>25377</th>\n",
              "      <td>43</td>\n",
              "      <td>1024</td>\n",
              "      <td>9</td>\n",
              "      <td>0</td>\n",
              "      <td>1</td>\n",
              "      <td>1</td>\n",
              "      <td>0</td>\n",
              "      <td>1</td>\n",
              "      <td>0</td>\n",
              "      <td>1</td>\n",
              "      <td>...</td>\n",
              "      <td>1</td>\n",
              "      <td>0</td>\n",
              "      <td>0</td>\n",
              "      <td>0</td>\n",
              "      <td>0</td>\n",
              "      <td>0</td>\n",
              "      <td>0</td>\n",
              "      <td>1</td>\n",
              "      <td>0</td>\n",
              "      <td>0</td>\n",
              "    </tr>\n",
              "    <tr>\n",
              "      <th>20495</th>\n",
              "      <td>38</td>\n",
              "      <td>363</td>\n",
              "      <td>0</td>\n",
              "      <td>1</td>\n",
              "      <td>0</td>\n",
              "      <td>0</td>\n",
              "      <td>1</td>\n",
              "      <td>1</td>\n",
              "      <td>0</td>\n",
              "      <td>0</td>\n",
              "      <td>...</td>\n",
              "      <td>0</td>\n",
              "      <td>1</td>\n",
              "      <td>0</td>\n",
              "      <td>0</td>\n",
              "      <td>0</td>\n",
              "      <td>0</td>\n",
              "      <td>0</td>\n",
              "      <td>0</td>\n",
              "      <td>1</td>\n",
              "      <td>0</td>\n",
              "    </tr>\n",
              "    <tr>\n",
              "      <th>17339</th>\n",
              "      <td>40</td>\n",
              "      <td>677</td>\n",
              "      <td>21</td>\n",
              "      <td>1</td>\n",
              "      <td>0</td>\n",
              "      <td>0</td>\n",
              "      <td>1</td>\n",
              "      <td>1</td>\n",
              "      <td>0</td>\n",
              "      <td>1</td>\n",
              "      <td>...</td>\n",
              "      <td>0</td>\n",
              "      <td>0</td>\n",
              "      <td>1</td>\n",
              "      <td>0</td>\n",
              "      <td>0</td>\n",
              "      <td>0</td>\n",
              "      <td>0</td>\n",
              "      <td>0</td>\n",
              "      <td>1</td>\n",
              "      <td>0</td>\n",
              "    </tr>\n",
              "    <tr>\n",
              "      <th>56925</th>\n",
              "      <td>43</td>\n",
              "      <td>3132</td>\n",
              "      <td>9</td>\n",
              "      <td>0</td>\n",
              "      <td>1</td>\n",
              "      <td>1</td>\n",
              "      <td>0</td>\n",
              "      <td>1</td>\n",
              "      <td>0</td>\n",
              "      <td>1</td>\n",
              "      <td>...</td>\n",
              "      <td>0</td>\n",
              "      <td>0</td>\n",
              "      <td>0</td>\n",
              "      <td>1</td>\n",
              "      <td>0</td>\n",
              "      <td>0</td>\n",
              "      <td>0</td>\n",
              "      <td>1</td>\n",
              "      <td>0</td>\n",
              "      <td>0</td>\n",
              "    </tr>\n",
              "  </tbody>\n",
              "</table>\n",
              "<p>20781 rows × 95 columns</p>\n",
              "</div>\n",
              "      <button class=\"colab-df-convert\" onclick=\"convertToInteractive('df-3ae4cd68-82c6-41fa-99fd-2a556b3c8bbe')\"\n",
              "              title=\"Convert this dataframe to an interactive table.\"\n",
              "              style=\"display:none;\">\n",
              "        \n",
              "  <svg xmlns=\"http://www.w3.org/2000/svg\" height=\"24px\"viewBox=\"0 0 24 24\"\n",
              "       width=\"24px\">\n",
              "    <path d=\"M0 0h24v24H0V0z\" fill=\"none\"/>\n",
              "    <path d=\"M18.56 5.44l.94 2.06.94-2.06 2.06-.94-2.06-.94-.94-2.06-.94 2.06-2.06.94zm-11 1L8.5 8.5l.94-2.06 2.06-.94-2.06-.94L8.5 2.5l-.94 2.06-2.06.94zm10 10l.94 2.06.94-2.06 2.06-.94-2.06-.94-.94-2.06-.94 2.06-2.06.94z\"/><path d=\"M17.41 7.96l-1.37-1.37c-.4-.4-.92-.59-1.43-.59-.52 0-1.04.2-1.43.59L10.3 9.45l-7.72 7.72c-.78.78-.78 2.05 0 2.83L4 21.41c.39.39.9.59 1.41.59.51 0 1.02-.2 1.41-.59l7.78-7.78 2.81-2.81c.8-.78.8-2.07 0-2.86zM5.41 20L4 18.59l7.72-7.72 1.47 1.35L5.41 20z\"/>\n",
              "  </svg>\n",
              "      </button>\n",
              "      \n",
              "  <style>\n",
              "    .colab-df-container {\n",
              "      display:flex;\n",
              "      flex-wrap:wrap;\n",
              "      gap: 12px;\n",
              "    }\n",
              "\n",
              "    .colab-df-convert {\n",
              "      background-color: #E8F0FE;\n",
              "      border: none;\n",
              "      border-radius: 50%;\n",
              "      cursor: pointer;\n",
              "      display: none;\n",
              "      fill: #1967D2;\n",
              "      height: 32px;\n",
              "      padding: 0 0 0 0;\n",
              "      width: 32px;\n",
              "    }\n",
              "\n",
              "    .colab-df-convert:hover {\n",
              "      background-color: #E2EBFA;\n",
              "      box-shadow: 0px 1px 2px rgba(60, 64, 67, 0.3), 0px 1px 3px 1px rgba(60, 64, 67, 0.15);\n",
              "      fill: #174EA6;\n",
              "    }\n",
              "\n",
              "    [theme=dark] .colab-df-convert {\n",
              "      background-color: #3B4455;\n",
              "      fill: #D2E3FC;\n",
              "    }\n",
              "\n",
              "    [theme=dark] .colab-df-convert:hover {\n",
              "      background-color: #434B5C;\n",
              "      box-shadow: 0px 1px 3px 1px rgba(0, 0, 0, 0.15);\n",
              "      filter: drop-shadow(0px 1px 2px rgba(0, 0, 0, 0.3));\n",
              "      fill: #FFFFFF;\n",
              "    }\n",
              "  </style>\n",
              "\n",
              "      <script>\n",
              "        const buttonEl =\n",
              "          document.querySelector('#df-3ae4cd68-82c6-41fa-99fd-2a556b3c8bbe button.colab-df-convert');\n",
              "        buttonEl.style.display =\n",
              "          google.colab.kernel.accessAllowed ? 'block' : 'none';\n",
              "\n",
              "        async function convertToInteractive(key) {\n",
              "          const element = document.querySelector('#df-3ae4cd68-82c6-41fa-99fd-2a556b3c8bbe');\n",
              "          const dataTable =\n",
              "            await google.colab.kernel.invokeFunction('convertToInteractive',\n",
              "                                                     [key], {});\n",
              "          if (!dataTable) return;\n",
              "\n",
              "          const docLinkHtml = 'Like what you see? Visit the ' +\n",
              "            '<a target=\"_blank\" href=https://colab.research.google.com/notebooks/data_table.ipynb>data table notebook</a>'\n",
              "            + ' to learn more about interactive tables.';\n",
              "          element.innerHTML = '';\n",
              "          dataTable['output_type'] = 'display_data';\n",
              "          await google.colab.output.renderOutput(dataTable, element);\n",
              "          const docLink = document.createElement('div');\n",
              "          docLink.innerHTML = docLinkHtml;\n",
              "          element.appendChild(docLink);\n",
              "        }\n",
              "      </script>\n",
              "    </div>\n",
              "  </div>\n",
              "  "
            ]
          },
          "metadata": {},
          "execution_count": 65
        }
      ]
    },
    {
      "cell_type": "code",
      "source": [
        "print(X_train.shape,X_test.shape)"
      ],
      "metadata": {
        "colab": {
          "base_uri": "https://localhost:8080/"
        },
        "id": "DBYKzHSLJdkC",
        "outputId": "80a9ef59-9818-4e69-85b1-209a1e528a50"
      },
      "execution_count": 66,
      "outputs": [
        {
          "output_type": "stream",
          "name": "stdout",
          "text": [
            "(83123, 95) (20781, 95)\n"
          ]
        }
      ]
    },
    {
      "cell_type": "markdown",
      "source": [
        "##numeric standalize"
      ],
      "metadata": {
        "id": "JfcaaoSM6ax9"
      }
    },
    {
      "cell_type": "code",
      "source": [
        "sca=StandardScaler()\n",
        "sca.fit(X_train[num_cols])\n",
        "X_train[num_cols]=sca.transform(X_train[num_cols])\n",
        "X_test[num_cols]=sca.transform(X_test[num_cols])"
      ],
      "metadata": {
        "id": "NOR3qmRj6dwO"
      },
      "execution_count": 67,
      "outputs": []
    },
    {
      "cell_type": "code",
      "source": [
        "print(X_train.shape,X_test.shape)"
      ],
      "metadata": {
        "colab": {
          "base_uri": "https://localhost:8080/"
        },
        "id": "gc9X_NfnLeE0",
        "outputId": "2fef6cbb-eca3-4d91-9530-7911c695401f"
      },
      "execution_count": 68,
      "outputs": [
        {
          "output_type": "stream",
          "name": "stdout",
          "text": [
            "(83123, 95) (20781, 95)\n"
          ]
        }
      ]
    },
    {
      "cell_type": "code",
      "source": [
        "X_train"
      ],
      "metadata": {
        "colab": {
          "base_uri": "https://localhost:8080/",
          "height": 0
        },
        "id": "9SSIxBHXMHcV",
        "outputId": "d96c0814-d091-47b2-831e-90d66d771a9d"
      },
      "execution_count": 69,
      "outputs": [
        {
          "output_type": "execute_result",
          "data": {
            "text/plain": [
              "            Age  Flight Distance  Departure Delay in Minutes  Gender_Female  \\\n",
              "86633  0.966034        -0.861054                   -0.177954              1   \n",
              "55226  0.635534         0.730310                   -0.308643              0   \n",
              "13881 -1.744070        -0.358623                   -0.047266              1   \n",
              "98209  1.627035        -0.122421                   -0.387056              1   \n",
              "67547  0.040633        -0.213499                   -0.387056              0   \n",
              "...         ...              ...                         ...            ...   \n",
              "43355  0.569433         0.299941                   -0.387056              1   \n",
              "95684 -0.355968        -0.888077                   -0.387056              0   \n",
              "9553  -0.884769        -0.550788                   -0.387056              0   \n",
              "2611   1.825335        -0.420677                   -0.387056              0   \n",
              "15872  0.503333         2.653958                   -0.387056              0   \n",
              "\n",
              "       Gender_Male  Customer Type_Loyal Customer  \\\n",
              "86633            0                             1   \n",
              "55226            1                             1   \n",
              "13881            0                             1   \n",
              "98209            0                             1   \n",
              "67547            1                             1   \n",
              "...            ...                           ...   \n",
              "43355            0                             1   \n",
              "95684            1                             1   \n",
              "9553             1                             0   \n",
              "2611             1                             1   \n",
              "15872            1                             1   \n",
              "\n",
              "       Customer Type_disloyal Customer  Type of Travel_Business travel  \\\n",
              "86633                                0                               0   \n",
              "55226                                0                               1   \n",
              "13881                                0                               0   \n",
              "98209                                0                               0   \n",
              "67547                                0                               0   \n",
              "...                                ...                             ...   \n",
              "43355                                0                               1   \n",
              "95684                                0                               1   \n",
              "9553                                 1                               1   \n",
              "2611                                 0                               0   \n",
              "15872                                0                               1   \n",
              "\n",
              "       Type of Travel_Personal Travel  Class_Business  ...  \\\n",
              "86633                               1               0  ...   \n",
              "55226                               0               1  ...   \n",
              "13881                               1               0  ...   \n",
              "98209                               1               0  ...   \n",
              "67547                               1               0  ...   \n",
              "...                               ...             ...  ...   \n",
              "43355                               0               1  ...   \n",
              "95684                               0               1  ...   \n",
              "9553                                0               1  ...   \n",
              "2611                                1               0  ...   \n",
              "15872                               0               1  ...   \n",
              "\n",
              "       Inflight service_2  Inflight service_3  Inflight service_4  \\\n",
              "86633                   1                   0                   0   \n",
              "55226                   0                   0                   0   \n",
              "13881                   0                   0                   1   \n",
              "98209                   1                   0                   0   \n",
              "67547                   0                   0                   0   \n",
              "...                   ...                 ...                 ...   \n",
              "43355                   0                   0                   1   \n",
              "95684                   0                   0                   0   \n",
              "9553                    0                   0                   1   \n",
              "2611                    0                   0                   0   \n",
              "15872                   0                   0                   0   \n",
              "\n",
              "       Inflight service_5  Cleanliness_0  Cleanliness_1  Cleanliness_2  \\\n",
              "86633                   0              0              0              0   \n",
              "55226                   1              0              0              0   \n",
              "13881                   0              0              0              0   \n",
              "98209                   0              0              1              0   \n",
              "67547                   1              0              0              0   \n",
              "...                   ...            ...            ...            ...   \n",
              "43355                   0              0              0              0   \n",
              "95684                   0              0              0              1   \n",
              "9553                    0              0              0              0   \n",
              "2611                    1              0              0              1   \n",
              "15872                   1              0              0              0   \n",
              "\n",
              "       Cleanliness_3  Cleanliness_4  Cleanliness_5  \n",
              "86633              0              0              1  \n",
              "55226              1              0              0  \n",
              "13881              1              0              0  \n",
              "98209              0              0              0  \n",
              "67547              0              0              1  \n",
              "...              ...            ...            ...  \n",
              "43355              1              0              0  \n",
              "95684              0              0              0  \n",
              "9553               1              0              0  \n",
              "2611               0              0              0  \n",
              "15872              0              1              0  \n",
              "\n",
              "[83123 rows x 95 columns]"
            ],
            "text/html": [
              "\n",
              "  <div id=\"df-1ba77f16-ec41-4663-8ff7-fefa4fa063ce\">\n",
              "    <div class=\"colab-df-container\">\n",
              "      <div>\n",
              "<style scoped>\n",
              "    .dataframe tbody tr th:only-of-type {\n",
              "        vertical-align: middle;\n",
              "    }\n",
              "\n",
              "    .dataframe tbody tr th {\n",
              "        vertical-align: top;\n",
              "    }\n",
              "\n",
              "    .dataframe thead th {\n",
              "        text-align: right;\n",
              "    }\n",
              "</style>\n",
              "<table border=\"1\" class=\"dataframe\">\n",
              "  <thead>\n",
              "    <tr style=\"text-align: right;\">\n",
              "      <th></th>\n",
              "      <th>Age</th>\n",
              "      <th>Flight Distance</th>\n",
              "      <th>Departure Delay in Minutes</th>\n",
              "      <th>Gender_Female</th>\n",
              "      <th>Gender_Male</th>\n",
              "      <th>Customer Type_Loyal Customer</th>\n",
              "      <th>Customer Type_disloyal Customer</th>\n",
              "      <th>Type of Travel_Business travel</th>\n",
              "      <th>Type of Travel_Personal Travel</th>\n",
              "      <th>Class_Business</th>\n",
              "      <th>...</th>\n",
              "      <th>Inflight service_2</th>\n",
              "      <th>Inflight service_3</th>\n",
              "      <th>Inflight service_4</th>\n",
              "      <th>Inflight service_5</th>\n",
              "      <th>Cleanliness_0</th>\n",
              "      <th>Cleanliness_1</th>\n",
              "      <th>Cleanliness_2</th>\n",
              "      <th>Cleanliness_3</th>\n",
              "      <th>Cleanliness_4</th>\n",
              "      <th>Cleanliness_5</th>\n",
              "    </tr>\n",
              "  </thead>\n",
              "  <tbody>\n",
              "    <tr>\n",
              "      <th>86633</th>\n",
              "      <td>0.966034</td>\n",
              "      <td>-0.861054</td>\n",
              "      <td>-0.177954</td>\n",
              "      <td>1</td>\n",
              "      <td>0</td>\n",
              "      <td>1</td>\n",
              "      <td>0</td>\n",
              "      <td>0</td>\n",
              "      <td>1</td>\n",
              "      <td>0</td>\n",
              "      <td>...</td>\n",
              "      <td>1</td>\n",
              "      <td>0</td>\n",
              "      <td>0</td>\n",
              "      <td>0</td>\n",
              "      <td>0</td>\n",
              "      <td>0</td>\n",
              "      <td>0</td>\n",
              "      <td>0</td>\n",
              "      <td>0</td>\n",
              "      <td>1</td>\n",
              "    </tr>\n",
              "    <tr>\n",
              "      <th>55226</th>\n",
              "      <td>0.635534</td>\n",
              "      <td>0.730310</td>\n",
              "      <td>-0.308643</td>\n",
              "      <td>0</td>\n",
              "      <td>1</td>\n",
              "      <td>1</td>\n",
              "      <td>0</td>\n",
              "      <td>1</td>\n",
              "      <td>0</td>\n",
              "      <td>1</td>\n",
              "      <td>...</td>\n",
              "      <td>0</td>\n",
              "      <td>0</td>\n",
              "      <td>0</td>\n",
              "      <td>1</td>\n",
              "      <td>0</td>\n",
              "      <td>0</td>\n",
              "      <td>0</td>\n",
              "      <td>1</td>\n",
              "      <td>0</td>\n",
              "      <td>0</td>\n",
              "    </tr>\n",
              "    <tr>\n",
              "      <th>13881</th>\n",
              "      <td>-1.744070</td>\n",
              "      <td>-0.358623</td>\n",
              "      <td>-0.047266</td>\n",
              "      <td>1</td>\n",
              "      <td>0</td>\n",
              "      <td>1</td>\n",
              "      <td>0</td>\n",
              "      <td>0</td>\n",
              "      <td>1</td>\n",
              "      <td>0</td>\n",
              "      <td>...</td>\n",
              "      <td>0</td>\n",
              "      <td>0</td>\n",
              "      <td>1</td>\n",
              "      <td>0</td>\n",
              "      <td>0</td>\n",
              "      <td>0</td>\n",
              "      <td>0</td>\n",
              "      <td>1</td>\n",
              "      <td>0</td>\n",
              "      <td>0</td>\n",
              "    </tr>\n",
              "    <tr>\n",
              "      <th>98209</th>\n",
              "      <td>1.627035</td>\n",
              "      <td>-0.122421</td>\n",
              "      <td>-0.387056</td>\n",
              "      <td>1</td>\n",
              "      <td>0</td>\n",
              "      <td>1</td>\n",
              "      <td>0</td>\n",
              "      <td>0</td>\n",
              "      <td>1</td>\n",
              "      <td>0</td>\n",
              "      <td>...</td>\n",
              "      <td>1</td>\n",
              "      <td>0</td>\n",
              "      <td>0</td>\n",
              "      <td>0</td>\n",
              "      <td>0</td>\n",
              "      <td>1</td>\n",
              "      <td>0</td>\n",
              "      <td>0</td>\n",
              "      <td>0</td>\n",
              "      <td>0</td>\n",
              "    </tr>\n",
              "    <tr>\n",
              "      <th>67547</th>\n",
              "      <td>0.040633</td>\n",
              "      <td>-0.213499</td>\n",
              "      <td>-0.387056</td>\n",
              "      <td>0</td>\n",
              "      <td>1</td>\n",
              "      <td>1</td>\n",
              "      <td>0</td>\n",
              "      <td>0</td>\n",
              "      <td>1</td>\n",
              "      <td>0</td>\n",
              "      <td>...</td>\n",
              "      <td>0</td>\n",
              "      <td>0</td>\n",
              "      <td>0</td>\n",
              "      <td>1</td>\n",
              "      <td>0</td>\n",
              "      <td>0</td>\n",
              "      <td>0</td>\n",
              "      <td>0</td>\n",
              "      <td>0</td>\n",
              "      <td>1</td>\n",
              "    </tr>\n",
              "    <tr>\n",
              "      <th>...</th>\n",
              "      <td>...</td>\n",
              "      <td>...</td>\n",
              "      <td>...</td>\n",
              "      <td>...</td>\n",
              "      <td>...</td>\n",
              "      <td>...</td>\n",
              "      <td>...</td>\n",
              "      <td>...</td>\n",
              "      <td>...</td>\n",
              "      <td>...</td>\n",
              "      <td>...</td>\n",
              "      <td>...</td>\n",
              "      <td>...</td>\n",
              "      <td>...</td>\n",
              "      <td>...</td>\n",
              "      <td>...</td>\n",
              "      <td>...</td>\n",
              "      <td>...</td>\n",
              "      <td>...</td>\n",
              "      <td>...</td>\n",
              "      <td>...</td>\n",
              "    </tr>\n",
              "    <tr>\n",
              "      <th>43355</th>\n",
              "      <td>0.569433</td>\n",
              "      <td>0.299941</td>\n",
              "      <td>-0.387056</td>\n",
              "      <td>1</td>\n",
              "      <td>0</td>\n",
              "      <td>1</td>\n",
              "      <td>0</td>\n",
              "      <td>1</td>\n",
              "      <td>0</td>\n",
              "      <td>1</td>\n",
              "      <td>...</td>\n",
              "      <td>0</td>\n",
              "      <td>0</td>\n",
              "      <td>1</td>\n",
              "      <td>0</td>\n",
              "      <td>0</td>\n",
              "      <td>0</td>\n",
              "      <td>0</td>\n",
              "      <td>1</td>\n",
              "      <td>0</td>\n",
              "      <td>0</td>\n",
              "    </tr>\n",
              "    <tr>\n",
              "      <th>95684</th>\n",
              "      <td>-0.355968</td>\n",
              "      <td>-0.888077</td>\n",
              "      <td>-0.387056</td>\n",
              "      <td>0</td>\n",
              "      <td>1</td>\n",
              "      <td>1</td>\n",
              "      <td>0</td>\n",
              "      <td>1</td>\n",
              "      <td>0</td>\n",
              "      <td>1</td>\n",
              "      <td>...</td>\n",
              "      <td>0</td>\n",
              "      <td>0</td>\n",
              "      <td>0</td>\n",
              "      <td>0</td>\n",
              "      <td>0</td>\n",
              "      <td>0</td>\n",
              "      <td>1</td>\n",
              "      <td>0</td>\n",
              "      <td>0</td>\n",
              "      <td>0</td>\n",
              "    </tr>\n",
              "    <tr>\n",
              "      <th>9553</th>\n",
              "      <td>-0.884769</td>\n",
              "      <td>-0.550788</td>\n",
              "      <td>-0.387056</td>\n",
              "      <td>0</td>\n",
              "      <td>1</td>\n",
              "      <td>0</td>\n",
              "      <td>1</td>\n",
              "      <td>1</td>\n",
              "      <td>0</td>\n",
              "      <td>1</td>\n",
              "      <td>...</td>\n",
              "      <td>0</td>\n",
              "      <td>0</td>\n",
              "      <td>1</td>\n",
              "      <td>0</td>\n",
              "      <td>0</td>\n",
              "      <td>0</td>\n",
              "      <td>0</td>\n",
              "      <td>1</td>\n",
              "      <td>0</td>\n",
              "      <td>0</td>\n",
              "    </tr>\n",
              "    <tr>\n",
              "      <th>2611</th>\n",
              "      <td>1.825335</td>\n",
              "      <td>-0.420677</td>\n",
              "      <td>-0.387056</td>\n",
              "      <td>0</td>\n",
              "      <td>1</td>\n",
              "      <td>1</td>\n",
              "      <td>0</td>\n",
              "      <td>0</td>\n",
              "      <td>1</td>\n",
              "      <td>0</td>\n",
              "      <td>...</td>\n",
              "      <td>0</td>\n",
              "      <td>0</td>\n",
              "      <td>0</td>\n",
              "      <td>1</td>\n",
              "      <td>0</td>\n",
              "      <td>0</td>\n",
              "      <td>1</td>\n",
              "      <td>0</td>\n",
              "      <td>0</td>\n",
              "      <td>0</td>\n",
              "    </tr>\n",
              "    <tr>\n",
              "      <th>15872</th>\n",
              "      <td>0.503333</td>\n",
              "      <td>2.653958</td>\n",
              "      <td>-0.387056</td>\n",
              "      <td>0</td>\n",
              "      <td>1</td>\n",
              "      <td>1</td>\n",
              "      <td>0</td>\n",
              "      <td>1</td>\n",
              "      <td>0</td>\n",
              "      <td>1</td>\n",
              "      <td>...</td>\n",
              "      <td>0</td>\n",
              "      <td>0</td>\n",
              "      <td>0</td>\n",
              "      <td>1</td>\n",
              "      <td>0</td>\n",
              "      <td>0</td>\n",
              "      <td>0</td>\n",
              "      <td>0</td>\n",
              "      <td>1</td>\n",
              "      <td>0</td>\n",
              "    </tr>\n",
              "  </tbody>\n",
              "</table>\n",
              "<p>83123 rows × 95 columns</p>\n",
              "</div>\n",
              "      <button class=\"colab-df-convert\" onclick=\"convertToInteractive('df-1ba77f16-ec41-4663-8ff7-fefa4fa063ce')\"\n",
              "              title=\"Convert this dataframe to an interactive table.\"\n",
              "              style=\"display:none;\">\n",
              "        \n",
              "  <svg xmlns=\"http://www.w3.org/2000/svg\" height=\"24px\"viewBox=\"0 0 24 24\"\n",
              "       width=\"24px\">\n",
              "    <path d=\"M0 0h24v24H0V0z\" fill=\"none\"/>\n",
              "    <path d=\"M18.56 5.44l.94 2.06.94-2.06 2.06-.94-2.06-.94-.94-2.06-.94 2.06-2.06.94zm-11 1L8.5 8.5l.94-2.06 2.06-.94-2.06-.94L8.5 2.5l-.94 2.06-2.06.94zm10 10l.94 2.06.94-2.06 2.06-.94-2.06-.94-.94-2.06-.94 2.06-2.06.94z\"/><path d=\"M17.41 7.96l-1.37-1.37c-.4-.4-.92-.59-1.43-.59-.52 0-1.04.2-1.43.59L10.3 9.45l-7.72 7.72c-.78.78-.78 2.05 0 2.83L4 21.41c.39.39.9.59 1.41.59.51 0 1.02-.2 1.41-.59l7.78-7.78 2.81-2.81c.8-.78.8-2.07 0-2.86zM5.41 20L4 18.59l7.72-7.72 1.47 1.35L5.41 20z\"/>\n",
              "  </svg>\n",
              "      </button>\n",
              "      \n",
              "  <style>\n",
              "    .colab-df-container {\n",
              "      display:flex;\n",
              "      flex-wrap:wrap;\n",
              "      gap: 12px;\n",
              "    }\n",
              "\n",
              "    .colab-df-convert {\n",
              "      background-color: #E8F0FE;\n",
              "      border: none;\n",
              "      border-radius: 50%;\n",
              "      cursor: pointer;\n",
              "      display: none;\n",
              "      fill: #1967D2;\n",
              "      height: 32px;\n",
              "      padding: 0 0 0 0;\n",
              "      width: 32px;\n",
              "    }\n",
              "\n",
              "    .colab-df-convert:hover {\n",
              "      background-color: #E2EBFA;\n",
              "      box-shadow: 0px 1px 2px rgba(60, 64, 67, 0.3), 0px 1px 3px 1px rgba(60, 64, 67, 0.15);\n",
              "      fill: #174EA6;\n",
              "    }\n",
              "\n",
              "    [theme=dark] .colab-df-convert {\n",
              "      background-color: #3B4455;\n",
              "      fill: #D2E3FC;\n",
              "    }\n",
              "\n",
              "    [theme=dark] .colab-df-convert:hover {\n",
              "      background-color: #434B5C;\n",
              "      box-shadow: 0px 1px 3px 1px rgba(0, 0, 0, 0.15);\n",
              "      filter: drop-shadow(0px 1px 2px rgba(0, 0, 0, 0.3));\n",
              "      fill: #FFFFFF;\n",
              "    }\n",
              "  </style>\n",
              "\n",
              "      <script>\n",
              "        const buttonEl =\n",
              "          document.querySelector('#df-1ba77f16-ec41-4663-8ff7-fefa4fa063ce button.colab-df-convert');\n",
              "        buttonEl.style.display =\n",
              "          google.colab.kernel.accessAllowed ? 'block' : 'none';\n",
              "\n",
              "        async function convertToInteractive(key) {\n",
              "          const element = document.querySelector('#df-1ba77f16-ec41-4663-8ff7-fefa4fa063ce');\n",
              "          const dataTable =\n",
              "            await google.colab.kernel.invokeFunction('convertToInteractive',\n",
              "                                                     [key], {});\n",
              "          if (!dataTable) return;\n",
              "\n",
              "          const docLinkHtml = 'Like what you see? Visit the ' +\n",
              "            '<a target=\"_blank\" href=https://colab.research.google.com/notebooks/data_table.ipynb>data table notebook</a>'\n",
              "            + ' to learn more about interactive tables.';\n",
              "          element.innerHTML = '';\n",
              "          dataTable['output_type'] = 'display_data';\n",
              "          await google.colab.output.renderOutput(dataTable, element);\n",
              "          const docLink = document.createElement('div');\n",
              "          docLink.innerHTML = docLinkHtml;\n",
              "          element.appendChild(docLink);\n",
              "        }\n",
              "      </script>\n",
              "    </div>\n",
              "  </div>\n",
              "  "
            ]
          },
          "metadata": {},
          "execution_count": 69
        }
      ]
    },
    {
      "cell_type": "markdown",
      "source": [
        "# train model"
      ],
      "metadata": {
        "id": "-bRSyP06PWEl"
      }
    },
    {
      "cell_type": "code",
      "source": [
        "\n",
        "from sklearn.ensemble import RandomForestClassifier\n",
        "from sklearn.neighbors import KNeighborsClassifier\n",
        "from sklearn.linear_model import LogisticRegression\n",
        "from sklearn.metrics import confusion_matrix\n",
        "\n"
      ],
      "metadata": {
        "id": "TQVhojyrPYFR"
      },
      "execution_count": 70,
      "outputs": []
    },
    {
      "cell_type": "code",
      "source": [
        "from sklearn import neighbors\n",
        "# Logistic Regression\n",
        "classifier_logistic = LogisticRegression()\n",
        "\n",
        "# K Nearest Neighbors\n",
        "classifier_KNN = KNeighborsClassifier(n_neighbors=6)\n",
        "\n",
        "# Random Forest\n",
        "classifier_RF = RandomForestClassifier()"
      ],
      "metadata": {
        "id": "DaZE9CC1Pe_9"
      },
      "execution_count": 71,
      "outputs": []
    },
    {
      "cell_type": "code",
      "source": [
        "# Train the model\n",
        "classifier_logistic.fit(X_train, y_train)"
      ],
      "metadata": {
        "colab": {
          "base_uri": "https://localhost:8080/"
        },
        "id": "Im1EEjb0PtPz",
        "outputId": "41fa985c-ca09-4017-94cb-9819ad3783cb"
      },
      "execution_count": 72,
      "outputs": [
        {
          "output_type": "stream",
          "name": "stderr",
          "text": [
            "/usr/local/lib/python3.7/dist-packages/sklearn/linear_model/_logistic.py:818: ConvergenceWarning: lbfgs failed to converge (status=1):\n",
            "STOP: TOTAL NO. of ITERATIONS REACHED LIMIT.\n",
            "\n",
            "Increase the number of iterations (max_iter) or scale the data as shown in:\n",
            "    https://scikit-learn.org/stable/modules/preprocessing.html\n",
            "Please also refer to the documentation for alternative solver options:\n",
            "    https://scikit-learn.org/stable/modules/linear_model.html#logistic-regression\n",
            "  extra_warning_msg=_LOGISTIC_SOLVER_CONVERGENCE_MSG,\n"
          ]
        },
        {
          "output_type": "execute_result",
          "data": {
            "text/plain": [
              "LogisticRegression()"
            ]
          },
          "metadata": {},
          "execution_count": 72
        }
      ]
    },
    {
      "cell_type": "code",
      "source": [
        "classifier_logistic.predict(X_test)"
      ],
      "metadata": {
        "colab": {
          "base_uri": "https://localhost:8080/"
        },
        "id": "bkuJ2XC80GWO",
        "outputId": "ba15d5e1-0ef6-4753-9557-315cddc1b526"
      },
      "execution_count": 73,
      "outputs": [
        {
          "output_type": "execute_result",
          "data": {
            "text/plain": [
              "array([0, 0, 1, ..., 0, 0, 1])"
            ]
          },
          "metadata": {},
          "execution_count": 73
        }
      ]
    },
    {
      "cell_type": "code",
      "source": [
        "classifier_logistic.score(X_test,y_test)"
      ],
      "metadata": {
        "colab": {
          "base_uri": "https://localhost:8080/"
        },
        "id": "vNf_MqsA0TVd",
        "outputId": "bfcbcee5-c7f8-4d41-dd36-88ce75d0c6ab"
      },
      "execution_count": 74,
      "outputs": [
        {
          "output_type": "execute_result",
          "data": {
            "text/plain": [
              "0.9332082190462442"
            ]
          },
          "metadata": {},
          "execution_count": 74
        }
      ]
    },
    {
      "cell_type": "code",
      "source": [
        "classifier_RF.fit(X_train, y_train)\n"
      ],
      "metadata": {
        "colab": {
          "base_uri": "https://localhost:8080/"
        },
        "id": "JfipdhKE-m6h",
        "outputId": "88542c1c-b76b-4816-90f8-88c4f38b3075"
      },
      "execution_count": 75,
      "outputs": [
        {
          "output_type": "execute_result",
          "data": {
            "text/plain": [
              "RandomForestClassifier()"
            ]
          },
          "metadata": {},
          "execution_count": 75
        }
      ]
    },
    {
      "cell_type": "code",
      "source": [
        "classifier_RF.score(X_test,y_test)"
      ],
      "metadata": {
        "colab": {
          "base_uri": "https://localhost:8080/"
        },
        "id": "cBx7YoHPMhVB",
        "outputId": "02078437-b150-42a2-aadc-231858644195"
      },
      "execution_count": 76,
      "outputs": [
        {
          "output_type": "execute_result",
          "data": {
            "text/plain": [
              "0.961647658919205"
            ]
          },
          "metadata": {},
          "execution_count": 76
        }
      ]
    },
    {
      "cell_type": "code",
      "source": [
        "classifier_KNN.fit(X_train, y_train)"
      ],
      "metadata": {
        "colab": {
          "base_uri": "https://localhost:8080/"
        },
        "id": "oHYxc7dg-nAI",
        "outputId": "b564ea66-1da8-4bec-fffa-87f6e7f0b07d"
      },
      "execution_count": 77,
      "outputs": [
        {
          "output_type": "execute_result",
          "data": {
            "text/plain": [
              "KNeighborsClassifier(n_neighbors=6)"
            ]
          },
          "metadata": {},
          "execution_count": 77
        }
      ]
    },
    {
      "cell_type": "code",
      "source": [
        "classifier_KNN.score(X_test,y_test)"
      ],
      "metadata": {
        "id": "tLXZ0BbJ-nES",
        "colab": {
          "base_uri": "https://localhost:8080/"
        },
        "outputId": "d49005d5-1466-4820-a382-4b3b2a420000"
      },
      "execution_count": 78,
      "outputs": [
        {
          "output_type": "execute_result",
          "data": {
            "text/plain": [
              "0.9381646696501612"
            ]
          },
          "metadata": {},
          "execution_count": 78
        }
      ]
    },
    {
      "cell_type": "markdown",
      "source": [
        "#find optimal hyper paramaters"
      ],
      "metadata": {
        "id": "rkiq_3E20tMB"
      }
    },
    {
      "cell_type": "code",
      "source": [
        "from sklearn.model_selection import GridSearchCV\n",
        "\n",
        "# helper function for printing out grid search results \n",
        "def print_grid_search_metrics(gs):\n",
        "    print (\"Best score: \" + str(gs.best_score_))\n",
        "    print (\"Best parameters set:\")\n",
        "    best_parameters = gs.best_params_\n",
        "    for param_name in sorted(best_parameters.keys()):\n",
        "        print(param_name + ':' + str(best_parameters[param_name]))\n",
        "\n"
      ],
      "metadata": {
        "id": "Yr5GuUIk0jiU"
      },
      "execution_count": 79,
      "outputs": []
    },
    {
      "cell_type": "code",
      "source": [
        "# Possible hyperparamter options for Logistic Regression Regularization\n",
        "# Penalty is choosed from L1 or L2\n",
        "# C is the 1/lambda value(weight) for L1 and L2\n",
        "# solver: algorithm to find the weights that minimize the cost function\n",
        "\n",
        "# ('l1', 0.01)('l1', 0.05) ('l1', 0.1) ('l1', 0.2)('l1', 1)\n",
        "# ('12', 0.01)('l2', 0.05) ('l2', 0.1) ('l2', 0.2)('l2', 1)\n",
        "parameters = {\n",
        "    'penalty':('l2','l1'), \n",
        "    'C':(0.01, 0.05, 0.1, 0.2,0.5,0.8,0.9,0.92,0.94,0.96,1)\n",
        "}\n",
        "Grid_LR =GridSearchCV(LogisticRegression(solver='liblinear'),parameters,cv=5)#solver 这个参数是代表logistics regression？\n",
        "\n",
        "Grid_LR.fit(X_train, y_train)\n"
      ],
      "metadata": {
        "colab": {
          "base_uri": "https://localhost:8080/"
        },
        "id": "xAyt7Ds007CB",
        "outputId": "052ccaf0-40ff-4d63-967d-da33fc18db75"
      },
      "execution_count": 80,
      "outputs": [
        {
          "output_type": "execute_result",
          "data": {
            "text/plain": [
              "GridSearchCV(cv=5, estimator=LogisticRegression(solver='liblinear'),\n",
              "             param_grid={'C': (0.01, 0.05, 0.1, 0.2, 0.5, 0.8, 0.9, 0.92, 0.94,\n",
              "                               0.96, 1),\n",
              "                         'penalty': ('l2', 'l1')})"
            ]
          },
          "metadata": {},
          "execution_count": 80
        }
      ]
    },
    {
      "cell_type": "code",
      "source": [
        "print_grid_search_metrics(Grid_LR)"
      ],
      "metadata": {
        "colab": {
          "base_uri": "https://localhost:8080/"
        },
        "id": "JhvLqDMy-Jqd",
        "outputId": "99092116-806d-4e56-dd69-836943b7abc4"
      },
      "execution_count": 81,
      "outputs": [
        {
          "output_type": "stream",
          "name": "stdout",
          "text": [
            "Best score: 0.933965339720813\n",
            "Best parameters set:\n",
            "C:0.05\n",
            "penalty:l1\n"
          ]
        }
      ]
    },
    {
      "cell_type": "code",
      "source": [
        "best_LR_model = Grid_LR.best_estimator_\n",
        "best_LR_model.predict(X_test)\n",
        "best_LR_model.score(X_test, y_test)"
      ],
      "metadata": {
        "id": "B5AbrMgF-NnC",
        "colab": {
          "base_uri": "https://localhost:8080/"
        },
        "outputId": "83e3e04e-eeaa-44b5-8ee9-adfdab7fa027"
      },
      "execution_count": 82,
      "outputs": [
        {
          "output_type": "execute_result",
          "data": {
            "text/plain": [
              "0.9331600981665945"
            ]
          },
          "metadata": {},
          "execution_count": 82
        }
      ]
    },
    {
      "cell_type": "code",
      "source": [
        "# Possible hyperparamter options for KNN\n",
        "# Choose k\n",
        "parameters = {\n",
        "    'n_neighbors':[1,3,5,7,9,11,13]\n",
        "}\n",
        "Grid_KNN = GridSearchCV(KNeighborsClassifier(),parameters, cv=5)\n",
        "Grid_KNN.fit(X_train, y_train)"
      ],
      "metadata": {
        "colab": {
          "base_uri": "https://localhost:8080/"
        },
        "id": "fRRFLUHaN91R",
        "outputId": "a52386cd-0c39-4069-99bc-6cddc6240874"
      },
      "execution_count": 83,
      "outputs": [
        {
          "output_type": "execute_result",
          "data": {
            "text/plain": [
              "GridSearchCV(cv=5, estimator=KNeighborsClassifier(),\n",
              "             param_grid={'n_neighbors': [1, 3, 5, 7, 9, 11, 13]})"
            ]
          },
          "metadata": {},
          "execution_count": 83
        }
      ]
    },
    {
      "cell_type": "code",
      "source": [
        "# best k\n",
        "print_grid_search_metrics(Grid_KNN)\n",
        "best_KNN_model = Grid_KNN.best_estimator_"
      ],
      "metadata": {
        "colab": {
          "base_uri": "https://localhost:8080/"
        },
        "id": "8hRIB4htOFzI",
        "outputId": "0e734e2e-887b-4bbb-cf95-c14bf69c3486"
      },
      "execution_count": 84,
      "outputs": [
        {
          "output_type": "stream",
          "name": "stdout",
          "text": [
            "Best score: 0.9364676351610498\n",
            "Best parameters set:\n",
            "n_neighbors:11\n"
          ]
        }
      ]
    },
    {
      "cell_type": "code",
      "source": [
        "# Possible hyperparamter options for Random Forest\n",
        "# Choose the number of trees\n",
        "parameters = {\n",
        "    'n_estimators' : [60,80,100],\n",
        "    'max_depth': [1,5,10]\n",
        "}\n",
        "Grid_RF = GridSearchCV(RandomForestClassifier(),parameters, cv=5)\n",
        "Grid_RF.fit(X_train, y_train)"
      ],
      "metadata": {
        "colab": {
          "base_uri": "https://localhost:8080/"
        },
        "id": "UfQjsh94OmKT",
        "outputId": "a20940ad-1fa1-47fe-8213-25b995dfce65"
      },
      "execution_count": 85,
      "outputs": [
        {
          "output_type": "execute_result",
          "data": {
            "text/plain": [
              "GridSearchCV(cv=5, estimator=RandomForestClassifier(),\n",
              "             param_grid={'max_depth': [1, 5, 10],\n",
              "                         'n_estimators': [60, 80, 100]})"
            ]
          },
          "metadata": {},
          "execution_count": 85
        }
      ]
    },
    {
      "cell_type": "code",
      "source": [
        "print_grid_search_metrics(Grid_RF)"
      ],
      "metadata": {
        "colab": {
          "base_uri": "https://localhost:8080/"
        },
        "id": "svqRq5K5OqwF",
        "outputId": "815874d8-2c9f-4a46-870e-5b868b5f9194"
      },
      "execution_count": 86,
      "outputs": [
        {
          "output_type": "stream",
          "name": "stdout",
          "text": [
            "Best score: 0.9434332361220665\n",
            "Best parameters set:\n",
            "max_depth:10\n",
            "n_estimators:100\n"
          ]
        }
      ]
    },
    {
      "cell_type": "code",
      "source": [
        "best_RF_model = Grid_RF.best_estimator_"
      ],
      "metadata": {
        "id": "M5VqhjZCOt5R"
      },
      "execution_count": 87,
      "outputs": []
    },
    {
      "cell_type": "code",
      "source": [
        "best_RF_model"
      ],
      "metadata": {
        "colab": {
          "base_uri": "https://localhost:8080/"
        },
        "id": "h0EgM6guO77i",
        "outputId": "3e585882-2884-4597-e43e-2a4e828ee3e4"
      },
      "execution_count": 88,
      "outputs": [
        {
          "output_type": "execute_result",
          "data": {
            "text/plain": [
              "RandomForestClassifier(max_depth=10)"
            ]
          },
          "metadata": {},
          "execution_count": 88
        }
      ]
    },
    {
      "cell_type": "markdown",
      "source": [
        "#performance evaluation"
      ],
      "metadata": {
        "id": "x0HCO_G2PAUR"
      }
    },
    {
      "cell_type": "code",
      "source": [
        "from sklearn.metrics import confusion_matrix\n",
        "from sklearn.metrics import classification_report\n",
        "from sklearn.metrics import plot_confusion_matrix\n",
        "from sklearn.metrics import precision_score\n",
        "from sklearn.metrics import recall_score"
      ],
      "metadata": {
        "id": "o7ZRL0tNPDy3"
      },
      "execution_count": 89,
      "outputs": []
    },
    {
      "cell_type": "code",
      "source": [
        "plot_confusion_matrix(best_RF_model,X_test,y_test)"
      ],
      "metadata": {
        "colab": {
          "base_uri": "https://localhost:8080/",
          "height": 353
        },
        "id": "AWnCsiYQPe81",
        "outputId": "20e080ec-04f3-425e-b27b-e853f5d8345d"
      },
      "execution_count": 90,
      "outputs": [
        {
          "output_type": "stream",
          "name": "stderr",
          "text": [
            "/usr/local/lib/python3.7/dist-packages/sklearn/utils/deprecation.py:87: FutureWarning: Function plot_confusion_matrix is deprecated; Function `plot_confusion_matrix` is deprecated in 1.0 and will be removed in 1.2. Use one of the class methods: ConfusionMatrixDisplay.from_predictions or ConfusionMatrixDisplay.from_estimator.\n",
            "  warnings.warn(msg, category=FutureWarning)\n"
          ]
        },
        {
          "output_type": "execute_result",
          "data": {
            "text/plain": [
              "<sklearn.metrics._plot.confusion_matrix.ConfusionMatrixDisplay at 0x7efebc6b7450>"
            ]
          },
          "metadata": {},
          "execution_count": 90
        },
        {
          "output_type": "display_data",
          "data": {
            "text/plain": [
              "<Figure size 432x288 with 2 Axes>"
            ],
            "image/png": "[encoded data removed]"
          },
          "metadata": {
            "needs_background": "light"
          }
        }
      ]
    },
    {
      "cell_type": "code",
      "source": [
        "classification_report(y_test,best_RF_model.predict(X_test))"
      ],
      "metadata": {
        "colab": {
          "base_uri": "https://localhost:8080/",
          "height": 53
        },
        "id": "Mw3d0uVYPxL3",
        "outputId": "9e847c83-deb6-4ee3-d0e2-b41def94ebeb"
      },
      "execution_count": 91,
      "outputs": [
        {
          "output_type": "execute_result",
          "data": {
            "text/plain": [
              "'              precision    recall  f1-score   support\\n\\n           0       0.94      0.96      0.95     11898\\n           1       0.94      0.92      0.93      8883\\n\\n    accuracy                           0.94     20781\\n   macro avg       0.94      0.94      0.94     20781\\nweighted avg       0.94      0.94      0.94     20781\\n'"
            ],
            "application/vnd.google.colaboratory.intrinsic+json": {
              "type": "string"
            }
          },
          "metadata": {},
          "execution_count": 91
        }
      ]
    },
    {
      "cell_type": "code",
      "source": [
        "plot_confusion_matrix(best_LR_model,X_test,y_test)"
      ],
      "metadata": {
        "colab": {
          "base_uri": "https://localhost:8080/",
          "height": 353
        },
        "id": "LVHxRn3WRVhZ",
        "outputId": "3e825a9f-2e52-4eae-e3fd-a0d0f6af8532"
      },
      "execution_count": 92,
      "outputs": [
        {
          "output_type": "stream",
          "name": "stderr",
          "text": [
            "/usr/local/lib/python3.7/dist-packages/sklearn/utils/deprecation.py:87: FutureWarning: Function plot_confusion_matrix is deprecated; Function `plot_confusion_matrix` is deprecated in 1.0 and will be removed in 1.2. Use one of the class methods: ConfusionMatrixDisplay.from_predictions or ConfusionMatrixDisplay.from_estimator.\n",
            "  warnings.warn(msg, category=FutureWarning)\n"
          ]
        },
        {
          "output_type": "execute_result",
          "data": {
            "text/plain": [
              "<sklearn.metrics._plot.confusion_matrix.ConfusionMatrixDisplay at 0x7efebe930310>"
            ]
          },
          "metadata": {},
          "execution_count": 92
        },
        {
          "output_type": "display_data",
          "data": {
            "text/plain": [
              "<Figure size 432x288 with 2 Axes>"
            ],
            "image/png": "[encoded data removed]"
          },
          "metadata": {
            "needs_background": "light"
          }
        }
      ]
    },
    {
      "cell_type": "code",
      "source": [
        "best_LR_prediction=best_LR_model.predict(X_test)\n",
        "classification_report(y_test,best_LR_prediction)"
      ],
      "metadata": {
        "colab": {
          "base_uri": "https://localhost:8080/",
          "height": 53
        },
        "id": "Soc3hfDGRVkP",
        "outputId": "d874cddd-9056-4350-dbb7-7469310cc260"
      },
      "execution_count": 93,
      "outputs": [
        {
          "output_type": "execute_result",
          "data": {
            "text/plain": [
              "'              precision    recall  f1-score   support\\n\\n           0       0.94      0.95      0.94     11898\\n           1       0.93      0.91      0.92      8883\\n\\n    accuracy                           0.93     20781\\n   macro avg       0.93      0.93      0.93     20781\\nweighted avg       0.93      0.93      0.93     20781\\n'"
            ],
            "application/vnd.google.colaboratory.intrinsic+json": {
              "type": "string"
            }
          },
          "metadata": {},
          "execution_count": 93
        }
      ]
    },
    {
      "cell_type": "code",
      "source": [
        "plot_confusion_matrix(best_KNN_model,X_test,y_test)"
      ],
      "metadata": {
        "colab": {
          "base_uri": "https://localhost:8080/",
          "height": 353
        },
        "id": "VdE71XDpRVw9",
        "outputId": "7a9a3a05-2b72-4ea2-dce5-bb6ed430ad60"
      },
      "execution_count": 94,
      "outputs": [
        {
          "output_type": "stream",
          "name": "stderr",
          "text": [
            "/usr/local/lib/python3.7/dist-packages/sklearn/utils/deprecation.py:87: FutureWarning: Function plot_confusion_matrix is deprecated; Function `plot_confusion_matrix` is deprecated in 1.0 and will be removed in 1.2. Use one of the class methods: ConfusionMatrixDisplay.from_predictions or ConfusionMatrixDisplay.from_estimator.\n",
            "  warnings.warn(msg, category=FutureWarning)\n"
          ]
        },
        {
          "output_type": "execute_result",
          "data": {
            "text/plain": [
              "<sklearn.metrics._plot.confusion_matrix.ConfusionMatrixDisplay at 0x7efebe874a50>"
            ]
          },
          "metadata": {},
          "execution_count": 94
        },
        {
          "output_type": "display_data",
          "data": {
            "text/plain": [
              "<Figure size 432x288 with 2 Axes>"
            ],
            "image/png": "[encoded data removed]"
          },
          "metadata": {
            "needs_background": "light"
          }
        }
      ]
    },
    {
      "cell_type": "code",
      "source": [
        "classification_report(y_test,best_KNN_model.predict(X_test))"
      ],
      "metadata": {
        "colab": {
          "base_uri": "https://localhost:8080/",
          "height": 53
        },
        "id": "cSpGZzJERV0H",
        "outputId": "20667e31-eaad-49be-f1e6-9319abf2b1aa"
      },
      "execution_count": 95,
      "outputs": [
        {
          "output_type": "execute_result",
          "data": {
            "text/plain": [
              "'              precision    recall  f1-score   support\\n\\n           0       0.94      0.96      0.95     11898\\n           1       0.94      0.91      0.93      8883\\n\\n    accuracy                           0.94     20781\\n   macro avg       0.94      0.94      0.94     20781\\nweighted avg       0.94      0.94      0.94     20781\\n'"
            ],
            "application/vnd.google.colaboratory.intrinsic+json": {
              "type": "string"
            }
          },
          "metadata": {},
          "execution_count": 95
        }
      ]
    },
    {
      "cell_type": "code",
      "source": [
        "feature_imp_df = pd.DataFrame(list(zip(best_RF_model.feature_importances_, X_train)))\n",
        "feature_imp_df.columns = ['feature importance', 'feature']\n",
        "feature_imp_df=feature_imp_df.sort_values(by='feature importance',ascending=False)\n"
      ],
      "metadata": {
        "id": "fI835EmbScnK"
      },
      "execution_count": 96,
      "outputs": []
    },
    {
      "cell_type": "code",
      "source": [
        "feature_imp_df.head(10)"
      ],
      "metadata": {
        "colab": {
          "base_uri": "https://localhost:8080/",
          "height": 363
        },
        "id": "TiV1FmMWScuW",
        "outputId": "b31e0d49-7acc-4fc9-9f72-e7b276883ef0"
      },
      "execution_count": 97,
      "outputs": [
        {
          "output_type": "execute_result",
          "data": {
            "text/plain": [
              "    feature importance                         feature\n",
              "9             0.101691                  Class_Business\n",
              "47            0.073250               Online boarding_5\n",
              "8             0.073136  Type of Travel_Personal Travel\n",
              "7             0.071987  Type of Travel_Business travel\n",
              "17            0.067111         Inflight wifi service_5\n",
              "10            0.054732                       Class_Eco\n",
              "45            0.033616               Online boarding_3\n",
              "5             0.031037    Customer Type_Loyal Customer\n",
              "12            0.028328         Inflight wifi service_0\n",
              "46            0.025000               Online boarding_4"
            ],
            "text/html": [
              "\n",
              "  <div id=\"df-ae965092-88d1-435b-8ac2-0ae7f693c591\">\n",
              "    <div class=\"colab-df-container\">\n",
              "      <div>\n",
              "<style scoped>\n",
              "    .dataframe tbody tr th:only-of-type {\n",
              "        vertical-align: middle;\n",
              "    }\n",
              "\n",
              "    .dataframe tbody tr th {\n",
              "        vertical-align: top;\n",
              "    }\n",
              "\n",
              "    .dataframe thead th {\n",
              "        text-align: right;\n",
              "    }\n",
              "</style>\n",
              "<table border=\"1\" class=\"dataframe\">\n",
              "  <thead>\n",
              "    <tr style=\"text-align: right;\">\n",
              "      <th></th>\n",
              "      <th>feature importance</th>\n",
              "      <th>feature</th>\n",
              "    </tr>\n",
              "  </thead>\n",
              "  <tbody>\n",
              "    <tr>\n",
              "      <th>9</th>\n",
              "      <td>0.101691</td>\n",
              "      <td>Class_Business</td>\n",
              "    </tr>\n",
              "    <tr>\n",
              "      <th>47</th>\n",
              "      <td>0.073250</td>\n",
              "      <td>Online boarding_5</td>\n",
              "    </tr>\n",
              "    <tr>\n",
              "      <th>8</th>\n",
              "      <td>0.073136</td>\n",
              "      <td>Type of Travel_Personal Travel</td>\n",
              "    </tr>\n",
              "    <tr>\n",
              "      <th>7</th>\n",
              "      <td>0.071987</td>\n",
              "      <td>Type of Travel_Business travel</td>\n",
              "    </tr>\n",
              "    <tr>\n",
              "      <th>17</th>\n",
              "      <td>0.067111</td>\n",
              "      <td>Inflight wifi service_5</td>\n",
              "    </tr>\n",
              "    <tr>\n",
              "      <th>10</th>\n",
              "      <td>0.054732</td>\n",
              "      <td>Class_Eco</td>\n",
              "    </tr>\n",
              "    <tr>\n",
              "      <th>45</th>\n",
              "      <td>0.033616</td>\n",
              "      <td>Online boarding_3</td>\n",
              "    </tr>\n",
              "    <tr>\n",
              "      <th>5</th>\n",
              "      <td>0.031037</td>\n",
              "      <td>Customer Type_Loyal Customer</td>\n",
              "    </tr>\n",
              "    <tr>\n",
              "      <th>12</th>\n",
              "      <td>0.028328</td>\n",
              "      <td>Inflight wifi service_0</td>\n",
              "    </tr>\n",
              "    <tr>\n",
              "      <th>46</th>\n",
              "      <td>0.025000</td>\n",
              "      <td>Online boarding_4</td>\n",
              "    </tr>\n",
              "  </tbody>\n",
              "</table>\n",
              "</div>\n",
              "      <button class=\"colab-df-convert\" onclick=\"convertToInteractive('df-ae965092-88d1-435b-8ac2-0ae7f693c591')\"\n",
              "              title=\"Convert this dataframe to an interactive table.\"\n",
              "              style=\"display:none;\">\n",
              "        \n",
              "  <svg xmlns=\"http://www.w3.org/2000/svg\" height=\"24px\"viewBox=\"0 0 24 24\"\n",
              "       width=\"24px\">\n",
              "    <path d=\"M0 0h24v24H0V0z\" fill=\"none\"/>\n",
              "    <path d=\"M18.56 5.44l.94 2.06.94-2.06 2.06-.94-2.06-.94-.94-2.06-.94 2.06-2.06.94zm-11 1L8.5 8.5l.94-2.06 2.06-.94-2.06-.94L8.5 2.5l-.94 2.06-2.06.94zm10 10l.94 2.06.94-2.06 2.06-.94-2.06-.94-.94-2.06-.94 2.06-2.06.94z\"/><path d=\"M17.41 7.96l-1.37-1.37c-.4-.4-.92-.59-1.43-.59-.52 0-1.04.2-1.43.59L10.3 9.45l-7.72 7.72c-.78.78-.78 2.05 0 2.83L4 21.41c.39.39.9.59 1.41.59.51 0 1.02-.2 1.41-.59l7.78-7.78 2.81-2.81c.8-.78.8-2.07 0-2.86zM5.41 20L4 18.59l7.72-7.72 1.47 1.35L5.41 20z\"/>\n",
              "  </svg>\n",
              "      </button>\n",
              "      \n",
              "  <style>\n",
              "    .colab-df-container {\n",
              "      display:flex;\n",
              "      flex-wrap:wrap;\n",
              "      gap: 12px;\n",
              "    }\n",
              "\n",
              "    .colab-df-convert {\n",
              "      background-color: #E8F0FE;\n",
              "      border: none;\n",
              "      border-radius: 50%;\n",
              "      cursor: pointer;\n",
              "      display: none;\n",
              "      fill: #1967D2;\n",
              "      height: 32px;\n",
              "      padding: 0 0 0 0;\n",
              "      width: 32px;\n",
              "    }\n",
              "\n",
              "    .colab-df-convert:hover {\n",
              "      background-color: #E2EBFA;\n",
              "      box-shadow: 0px 1px 2px rgba(60, 64, 67, 0.3), 0px 1px 3px 1px rgba(60, 64, 67, 0.15);\n",
              "      fill: #174EA6;\n",
              "    }\n",
              "\n",
              "    [theme=dark] .colab-df-convert {\n",
              "      background-color: #3B4455;\n",
              "      fill: #D2E3FC;\n",
              "    }\n",
              "\n",
              "    [theme=dark] .colab-df-convert:hover {\n",
              "      background-color: #434B5C;\n",
              "      box-shadow: 0px 1px 3px 1px rgba(0, 0, 0, 0.15);\n",
              "      filter: drop-shadow(0px 1px 2px rgba(0, 0, 0, 0.3));\n",
              "      fill: #FFFFFF;\n",
              "    }\n",
              "  </style>\n",
              "\n",
              "      <script>\n",
              "        const buttonEl =\n",
              "          document.querySelector('#df-ae965092-88d1-435b-8ac2-0ae7f693c591 button.colab-df-convert');\n",
              "        buttonEl.style.display =\n",
              "          google.colab.kernel.accessAllowed ? 'block' : 'none';\n",
              "\n",
              "        async function convertToInteractive(key) {\n",
              "          const element = document.querySelector('#df-ae965092-88d1-435b-8ac2-0ae7f693c591');\n",
              "          const dataTable =\n",
              "            await google.colab.kernel.invokeFunction('convertToInteractive',\n",
              "                                                     [key], {});\n",
              "          if (!dataTable) return;\n",
              "\n",
              "          const docLinkHtml = 'Like what you see? Visit the ' +\n",
              "            '<a target=\"_blank\" href=https://colab.research.google.com/notebooks/data_table.ipynb>data table notebook</a>'\n",
              "            + ' to learn more about interactive tables.';\n",
              "          element.innerHTML = '';\n",
              "          dataTable['output_type'] = 'display_data';\n",
              "          await google.colab.output.renderOutput(dataTable, element);\n",
              "          const docLink = document.createElement('div');\n",
              "          docLink.innerHTML = docLinkHtml;\n",
              "          element.appendChild(docLink);\n",
              "        }\n",
              "      </script>\n",
              "    </div>\n",
              "  </div>\n",
              "  "
            ]
          },
          "metadata": {},
          "execution_count": 97
        }
      ]
    },
    {
      "cell_type": "code",
      "source": [
        "coee_df=pd.DataFrame(data=best_LR_model.coef_.transpose(),index=X_train.columns,columns=['Coef'])"
      ],
      "metadata": {
        "id": "4utnYYvESc0t"
      },
      "execution_count": 98,
      "outputs": []
    },
    {
      "cell_type": "code",
      "source": [
        "coee_df.sort_values(by=['Coef']).head(10)"
      ],
      "metadata": {
        "colab": {
          "base_uri": "https://localhost:8080/",
          "height": 363
        },
        "id": "JaZFxePsbPpL",
        "outputId": "db7b3102-6458-47ff-fb9b-cf301ab09f7a"
      },
      "execution_count": 99,
      "outputs": [
        {
          "output_type": "execute_result",
          "data": {
            "text/plain": [
              "                                         Coef\n",
              "Type of Travel_Personal Travel      -3.710061\n",
              "Customer Type_disloyal Customer     -3.136735\n",
              "Inflight wifi service_3             -1.476546\n",
              "Inflight wifi service_2             -1.467077\n",
              "Inflight wifi service_1             -1.226163\n",
              "Departure/Arrival time convenient_5 -1.046521\n",
              "Seat comfort_3                      -0.971095\n",
              "Departure/Arrival time convenient_4 -0.791291\n",
              "Inflight service_3                  -0.674220\n",
              "Checkin service_1                   -0.627286"
            ],
            "text/html": [
              "\n",
              "  <div id=\"df-e5554159-3c15-44a1-b887-ae56ef5a92b3\">\n",
              "    <div class=\"colab-df-container\">\n",
              "      <div>\n",
              "<style scoped>\n",
              "    .dataframe tbody tr th:only-of-type {\n",
              "        vertical-align: middle;\n",
              "    }\n",
              "\n",
              "    .dataframe tbody tr th {\n",
              "        vertical-align: top;\n",
              "    }\n",
              "\n",
              "    .dataframe thead th {\n",
              "        text-align: right;\n",
              "    }\n",
              "</style>\n",
              "<table border=\"1\" class=\"dataframe\">\n",
              "  <thead>\n",
              "    <tr style=\"text-align: right;\">\n",
              "      <th></th>\n",
              "      <th>Coef</th>\n",
              "    </tr>\n",
              "  </thead>\n",
              "  <tbody>\n",
              "    <tr>\n",
              "      <th>Type of Travel_Personal Travel</th>\n",
              "      <td>-3.710061</td>\n",
              "    </tr>\n",
              "    <tr>\n",
              "      <th>Customer Type_disloyal Customer</th>\n",
              "      <td>-3.136735</td>\n",
              "    </tr>\n",
              "    <tr>\n",
              "      <th>Inflight wifi service_3</th>\n",
              "      <td>-1.476546</td>\n",
              "    </tr>\n",
              "    <tr>\n",
              "      <th>Inflight wifi service_2</th>\n",
              "      <td>-1.467077</td>\n",
              "    </tr>\n",
              "    <tr>\n",
              "      <th>Inflight wifi service_1</th>\n",
              "      <td>-1.226163</td>\n",
              "    </tr>\n",
              "    <tr>\n",
              "      <th>Departure/Arrival time convenient_5</th>\n",
              "      <td>-1.046521</td>\n",
              "    </tr>\n",
              "    <tr>\n",
              "      <th>Seat comfort_3</th>\n",
              "      <td>-0.971095</td>\n",
              "    </tr>\n",
              "    <tr>\n",
              "      <th>Departure/Arrival time convenient_4</th>\n",
              "      <td>-0.791291</td>\n",
              "    </tr>\n",
              "    <tr>\n",
              "      <th>Inflight service_3</th>\n",
              "      <td>-0.674220</td>\n",
              "    </tr>\n",
              "    <tr>\n",
              "      <th>Checkin service_1</th>\n",
              "      <td>-0.627286</td>\n",
              "    </tr>\n",
              "  </tbody>\n",
              "</table>\n",
              "</div>\n",
              "      <button class=\"colab-df-convert\" onclick=\"convertToInteractive('df-e5554159-3c15-44a1-b887-ae56ef5a92b3')\"\n",
              "              title=\"Convert this dataframe to an interactive table.\"\n",
              "              style=\"display:none;\">\n",
              "        \n",
              "  <svg xmlns=\"http://www.w3.org/2000/svg\" height=\"24px\"viewBox=\"0 0 24 24\"\n",
              "       width=\"24px\">\n",
              "    <path d=\"M0 0h24v24H0V0z\" fill=\"none\"/>\n",
              "    <path d=\"M18.56 5.44l.94 2.06.94-2.06 2.06-.94-2.06-.94-.94-2.06-.94 2.06-2.06.94zm-11 1L8.5 8.5l.94-2.06 2.06-.94-2.06-.94L8.5 2.5l-.94 2.06-2.06.94zm10 10l.94 2.06.94-2.06 2.06-.94-2.06-.94-.94-2.06-.94 2.06-2.06.94z\"/><path d=\"M17.41 7.96l-1.37-1.37c-.4-.4-.92-.59-1.43-.59-.52 0-1.04.2-1.43.59L10.3 9.45l-7.72 7.72c-.78.78-.78 2.05 0 2.83L4 21.41c.39.39.9.59 1.41.59.51 0 1.02-.2 1.41-.59l7.78-7.78 2.81-2.81c.8-.78.8-2.07 0-2.86zM5.41 20L4 18.59l7.72-7.72 1.47 1.35L5.41 20z\"/>\n",
              "  </svg>\n",
              "      </button>\n",
              "      \n",
              "  <style>\n",
              "    .colab-df-container {\n",
              "      display:flex;\n",
              "      flex-wrap:wrap;\n",
              "      gap: 12px;\n",
              "    }\n",
              "\n",
              "    .colab-df-convert {\n",
              "      background-color: #E8F0FE;\n",
              "      border: none;\n",
              "      border-radius: 50%;\n",
              "      cursor: pointer;\n",
              "      display: none;\n",
              "      fill: #1967D2;\n",
              "      height: 32px;\n",
              "      padding: 0 0 0 0;\n",
              "      width: 32px;\n",
              "    }\n",
              "\n",
              "    .colab-df-convert:hover {\n",
              "      background-color: #E2EBFA;\n",
              "      box-shadow: 0px 1px 2px rgba(60, 64, 67, 0.3), 0px 1px 3px 1px rgba(60, 64, 67, 0.15);\n",
              "      fill: #174EA6;\n",
              "    }\n",
              "\n",
              "    [theme=dark] .colab-df-convert {\n",
              "      background-color: #3B4455;\n",
              "      fill: #D2E3FC;\n",
              "    }\n",
              "\n",
              "    [theme=dark] .colab-df-convert:hover {\n",
              "      background-color: #434B5C;\n",
              "      box-shadow: 0px 1px 3px 1px rgba(0, 0, 0, 0.15);\n",
              "      filter: drop-shadow(0px 1px 2px rgba(0, 0, 0, 0.3));\n",
              "      fill: #FFFFFF;\n",
              "    }\n",
              "  </style>\n",
              "\n",
              "      <script>\n",
              "        const buttonEl =\n",
              "          document.querySelector('#df-e5554159-3c15-44a1-b887-ae56ef5a92b3 button.colab-df-convert');\n",
              "        buttonEl.style.display =\n",
              "          google.colab.kernel.accessAllowed ? 'block' : 'none';\n",
              "\n",
              "        async function convertToInteractive(key) {\n",
              "          const element = document.querySelector('#df-e5554159-3c15-44a1-b887-ae56ef5a92b3');\n",
              "          const dataTable =\n",
              "            await google.colab.kernel.invokeFunction('convertToInteractive',\n",
              "                                                     [key], {});\n",
              "          if (!dataTable) return;\n",
              "\n",
              "          const docLinkHtml = 'Like what you see? Visit the ' +\n",
              "            '<a target=\"_blank\" href=https://colab.research.google.com/notebooks/data_table.ipynb>data table notebook</a>'\n",
              "            + ' to learn more about interactive tables.';\n",
              "          element.innerHTML = '';\n",
              "          dataTable['output_type'] = 'display_data';\n",
              "          await google.colab.output.renderOutput(dataTable, element);\n",
              "          const docLink = document.createElement('div');\n",
              "          docLink.innerHTML = docLinkHtml;\n",
              "          element.appendChild(docLink);\n",
              "        }\n",
              "      </script>\n",
              "    </div>\n",
              "  </div>\n",
              "  "
            ]
          },
          "metadata": {},
          "execution_count": 99
        }
      ]
    },
    {
      "cell_type": "code",
      "source": [],
      "metadata": {
        "id": "RoT7TVtUbvT9"
      },
      "execution_count": null,
      "outputs": []
    }
  ]
}